{
 "cells": [
  {
   "cell_type": "markdown",
   "id": "e84fbc0b",
   "metadata": {},
   "source": [
    "# Cloud-Optimized GeoTIFFs\n",
    "\n",
    "## What is a Cloud-Optimized GeoTIFF?\n",
    "\n",
    "Cloud-Optimized GeoTIFF (the COG) is a variant of the TIFF image format that specifies a particular layout of internal data in the GeoTIFF specification to allow for optimized (subsetted or aggregated) access over a network for display or data reading. The key components are overviews, and internal tiling.\n",
    "\n",
    "For more details see https://www.cogeo.org/\n",
    "\n",
    "<img alt=\"COG Diagram\" src=\"../images/cog-diagram-1.png\" width=300/>\n",
    "\n",
    "### Dimensions\n",
    "\n",
    "This attribute is also sometimes called **chunks** or **internal tiles**.\n",
    "\n",
    "Dimensions are the number of bands, rows and columns stored in a GeoTIFF. There is a tradeoff between storing lots of data in one GeoTIFF and storing less data in many GeoTIFFs. The larger a single file, the larger the GeoTIFF header and the multiple requests may be required just to read the spatial index before data retrieval. The opposite problem occurs if you make too many small files, then it takes many reads to retrieve data, and when rendering a combined visualization can greatly impact load time.\n",
    "\n",
    "If you plan to pan and zoom a large amount of data through a tiling service in a web browser, there is a tradeoff between 1 large file, or many smaller files. The current recommendation is to meet somewhere in the middle, a moderate amount of medium files.\n",
    "\n",
    "### Internal Blocks\n",
    "\n",
    "Internal blocks are required if the dimensions of data are over 512x512. However you can control the size of the internal blocks. 256x256 or 512x512 are recommended. When displaying data at full resolution, or doing partial reading of data this size will impact the number of reads required. A size of 256 will take less time to read, and read less data outside the desired bounding box, however for reading large parts of a file, it may take more total read requests. Some clients will aggregate neighboring block reads to reduce the total number of requests.\n",
    "\n",
    "### Overviews\n",
    "\n",
    "Overviews are downsampled (aggregated) data intended for visualization.\n",
    "The best resampling algorithm depends on the range, type, and distribution of the data.\n",
    "\n",
    "The smallest size overview should match the tiling components’ fetch size, typically 256x256. Due to aspect ratio variation just aim to have at least one dimension at or slightly less than 256. The COG driver in GDAL, or rio cogeo tools should do this.\n",
    "\n",
    "There are many resampling algorithms for generating overviews. When creating overviews several options should be compared before deciding which resampling method to apply."
   ]
  },
  {
   "cell_type": "markdown",
   "id": "eb04e257-322a-4d42-b6d6-e75f1c587a69",
   "metadata": {},
   "source": [
    "## How to create and validate COGs\n",
    "\n",
    "1. [Rio-cogeo: GitHub - cogeotiff/rio-cogeo: Cloud Optimized GeoTIFF creation and validation plugin for rasterio](https://github.com/cogeotiff/rio-cogeo)\n",
    "2. [Gdal: COG – Cloud Optimized GeoTIFF generator — GDAL documentation](https://gdal.org/drivers/raster/cog.html)"
   ]
  },
  {
   "cell_type": "markdown",
   "id": "d193ab02-bb69-455e-9b72-5b89728f086e",
   "metadata": {},
   "source": [
    "## Additional Resources\n",
    "\n",
    "* [Planet Blog: An Introduction to Cloud Optimized GeoTIFFS (COGs) Part 1: Overview](https://developers.planet.com/docs/planetschool/an-introduction-to-cloud-optimized-geotiffs-cogs-part-1-overview/)\n",
    "* [COG Talk — Part 1: What’s new?](https://medium.com/devseed/cog-talk-part-1-whats-new-941facbcd3d1)\n",
    "* [Development Seed Blog: Do you really want people using your data?](https://medium.com/@_VincentS_/do-you-really-want-people-using-your-data-ec94cd94dc3f)\n",
    "\n",
    "## How to visualize COGs\n",
    "\n",
    "* GDAL vis* drivers (vsicurl, vsis3, vsiaz,)\n",
    "* Titiler https://github.com/developmentseed/titiler\n",
    "* Rio-viz https://github.com/developmentseed/rio-viz"
   ]
  }
 ],
 "metadata": {
  "kernelspec": {
   "display_name": "Python [conda env:geospatial]",
   "language": "python",
   "name": "conda-env-geospatial-py"
  },
  "language_info": {
   "codemirror_mode": {
    "name": "ipython",
    "version": 3
   },
   "file_extension": ".py",
   "mimetype": "text/x-python",
   "name": "python",
   "nbconvert_exporter": "python",
   "pygments_lexer": "ipython3",
   "version": "3.10.6"
  }
 },
 "nbformat": 4,
 "nbformat_minor": 5
}
