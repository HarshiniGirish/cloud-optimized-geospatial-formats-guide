{
 "cells": [
  {
   "cell_type": "markdown",
   "id": "e5378223",
   "metadata": {
    "slideshow": {
     "slide_type": "slide"
    }
   },
   "source": [
    "# Cloud-Optimized Geospatial Formats Overview\n",
    "\n",
    "Google Slides version of this content: [Cloud-Optimized Geospatial Formats](https://docs.google.com/presentation/d/1F89kcrtX9LNQPTOuwyL5FRex_8--Vlg-DA8GJNzWqGk/edit?usp=sharing).\n",
    "\n",
    "This notebook was generated using [RISE](https://rise.readthedocs.io/en/stable/). You can view the live slideshow version at TODO. You can view the slides if you have a local copy of this repository and either running a jupyter notebook server and clicking the histogram icon for starting the RISE slideshow or following the instructions on the [PDF Export page](https://rise.readthedocs.io/en/stable/exportpdf.html) of the RISE docs."
   ]
  },
  {
   "cell_type": "markdown",
   "id": "e0aec677",
   "metadata": {
    "slideshow": {
     "slide_type": "slide"
    }
   },
   "source": [
    "## What makes cloud-optimized challenging?\n",
    "* No one size fits all approach\n",
    "* Earth observation data may be processed into raster, vector and point cloud data types and stored in a long list of data formats and structures.\n",
    "* Optimization depends on the user.\n",
    "* Users must learn new tools and which data is accessed and how may differ depending on the user.\n",
    "* ... hopefully only a few new methods and concepts are necessary."
   ]
  },
  {
   "cell_type": "markdown",
   "id": "824ca744",
   "metadata": {
    "slideshow": {
     "slide_type": "fragment"
    }
   },
   "source": [
    "![points-lines-polygons](./images/2019-points-lines-polygons.png)\n",
    "\n",
    "image credit: https://ui.josiahparry.com/spatial-analysis.html#types-of-spatial-data"
   ]
  },
  {
   "cell_type": "markdown",
   "id": "f19ae3ce",
   "metadata": {
    "slideshow": {
     "slide_type": "slide"
    }
   },
   "source": [
    "# What makes cloud-optimized challenging?\n",
    "\n",
    "> There is no one-size-fits-all packaging for data, as the optimal packaging is highly use-case dependent.\n",
    "\n",
    "\n",
    "[Task 51 - Cloud-Optimized Format Study](https://ntrs.nasa.gov/citations/20200001178)\n",
    "Authors: Chris Durbin, Patrick Quinn, Dana Shum"
   ]
  },
  {
   "cell_type": "markdown",
   "id": "646e8180",
   "metadata": {
    "slideshow": {
     "slide_type": "fragment"
    }
   },
   "source": [
    "File formats are read-oriented to support:\n",
    "\n",
    "* Partial reads\n",
    "* Parallel reads"
   ]
  },
  {
   "cell_type": "markdown",
   "id": "ad8de212",
   "metadata": {
    "slideshow": {
     "slide_type": "slide"
    }
   },
   "source": [
    "# What does cloud-optimized mean?\n",
    "\n",
    "* File metadata in one read\n",
    "* When accessing data over the internet, such as when data is in cloud storage, latency is high when compared with local storage so it is preferable to fetch lots of data in fewer reads.\n",
    "* An easy win is metadata in one read, which can be used to read a cloud-native dataset.\n",
    "* A cloud-native dataset is one with small addressable chunks via files, internal tiles, or both."
   ]
  },
  {
   "cell_type": "markdown",
   "id": "832e420d",
   "metadata": {
    "slideshow": {
     "slide_type": "slide"
    }
   },
   "source": [
    "# What does “cloud-optimized” mean?"
   ]
  },
  {
   "cell_type": "markdown",
   "id": "bf817d2e",
   "metadata": {
    "slideshow": {
     "slide_type": "fragment"
    }
   },
   "source": [
    "<div style=\"width: 65%; float: left;\">\n",
    "    <ul>\n",
    "        <li>Accessible over HTTP using range requests</li>\n",
    "        <li>This makes it compatible with object storage (a file storage alternative to local disk) and thus accessible via HTTP, from many compute instances.</li>\n",
    "        <li>Supports lazy access and intelligent subsetting.</li>\n",
    "        <li>Integrates with high-level analysis libraries and distributed frameworks</li>        \n",
    "    </ul>\n",
    "</div>\n",
    "<img alt=\"higher level libraries\" src=\"./images/higher-level-libraries.png\" width=\"35%\"/>"
   ]
  },
  {
   "cell_type": "markdown",
   "id": "3d4fa330",
   "metadata": {
    "slideshow": {
     "slide_type": "slide"
    }
   },
   "source": [
    "# Formats by Data Type\n",
    "\n",
    "| Format  | Data Type  | Standard Status  |\n",
    "|:--------|:-----------|:-----------------|\n",
    "| Cloud-Optimized GeoTIFF (COG)                                 | Raster                   | OGC standard for comment               |\n",
    "| Zarr, Kerchunk                                                | Multi-dimensional raster | ESDIS and OGC standards in development |\n",
    "| Cloud-Optimized Point Cloud (COPC), Entwine Point Tiles (EPT) | Point Clouds*            | no known ESDIS or OGC standard         |\n",
    "| Flatgeobuf, GeoParquet,                                       | Vector                   | no known ESDIS, draft OGC standard     |"
   ]
  },
  {
   "cell_type": "markdown",
   "id": "0dc27c42",
   "metadata": {
    "slideshow": {
     "slide_type": "slide"
    }
   },
   "source": [
    "# Formats by Adoption\n",
    "\n",
    "| Format  | Adoption | Standard Status   |\n",
    "|:--------|:---------| :-----------------|\n",
    "| Cloud-Optimized GeoTIFF (COG)                                 | Widely adopted                                            | OGC standard for comment               |\n",
    "| Zarr, Kerchunk                                                | (Less) widely adopted, especially in specific communities | ESDIS and OGC standards in development |\n",
    "| Entwine Point Tiles (EPT), Cloud-Optimized Point Cloud (COPC) | Less common (PDAL Supported)                              | no known ESDIS or OGC standard         |\n",
    "| GeoParquet, FlatGeobuf                                        | Less common (OGR Supported)                               | no known ESDIS, draft OGC standard     |"
   ]
  },
  {
   "cell_type": "code",
   "execution_count": null,
   "id": "6a31b73c",
   "metadata": {
    "slideshow": {
     "slide_type": "skip"
    }
   },
   "outputs": [],
   "source": []
  }
 ],
 "metadata": {
  "celltoolbar": "Slideshow",
  "kernelspec": {
   "display_name": "Python 3 (ipykernel)",
   "language": "python",
   "name": "python3"
  },
  "language_info": {
   "codemirror_mode": {
    "name": "ipython",
    "version": 3
   },
   "file_extension": ".py",
   "mimetype": "text/x-python",
   "name": "python",
   "nbconvert_exporter": "python",
   "pygments_lexer": "ipython3",
   "version": "3.9.7"
  },
  "rise": {
   "theme": "sky"
  }
 },
 "nbformat": 4,
 "nbformat_minor": 5
}
