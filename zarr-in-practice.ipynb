{
 "cells": [
  {
   "cell_type": "markdown",
   "metadata": {},
   "source": [
    "# Zarr in Practice\n",
    "\n",
    "This notebook demonstrates how to create, explore and modify a Zarr store.\n",
    "\n",
    "It also includes links to and example use of public Zarr stores for geospatial data."
   ]
  },
  {
   "cell_type": "markdown",
   "metadata": {},
   "source": [
    "## How to create a Zarr store"
   ]
  },
  {
   "cell_type": "code",
   "execution_count": 1,
   "metadata": {},
   "outputs": [],
   "source": [
    "import numpy as np\n",
    "import sys\n",
    "import xarray as xr\n",
    "import zarr\n",
    "\n",
    "# Here we create a simple Zar store.\n",
    "zstore = zarr.array(np.arange(10))"
   ]
  },
  {
   "cell_type": "markdown",
   "metadata": {},
   "source": [
    "This is an in-memory Zarr store. To persist it to disk, we can use `.save`."
   ]
  },
  {
   "cell_type": "code",
   "execution_count": null,
   "metadata": {},
   "outputs": [],
   "source": [
    "zarr.save(\"test.zarr\", zstore)"
   ]
  },
  {
   "cell_type": "markdown",
   "metadata": {},
   "source": [
    "We can open the metadata about this dataset, which gives us some interesting information. It's has a shape of 10 chunks of 10, so we know all the data was stored in 1 chunk, and was compressed with the `blosc` compressor."
   ]
  },
  {
   "cell_type": "code",
   "execution_count": null,
   "metadata": {},
   "outputs": [],
   "source": [
    "!cat test.zarr/.zarray "
   ]
  },
  {
   "cell_type": "markdown",
   "metadata": {},
   "source": [
    "This was a pretty basic example. Let's explore the other things we might want to do when creating Zarr.\n",
    "\n",
    "## How to create a group"
   ]
  },
  {
   "cell_type": "code",
   "execution_count": 6,
   "metadata": {},
   "outputs": [],
   "source": [
    "root = zarr.group()\n",
    "group1 = root.create_group('group1')\n",
    "group2 = root.create_group('group2')\n",
    "z1 = group1.create_dataset('ds_in_group', shape=(100,100), chunks=(10,10), dtype='i4')\n",
    "z2 = group2.create_dataset('ds_in_group', shape=(1000,1000), chunks=(10,10), dtype='i4')\n",
    "tree = zarr.util.TreeViewer(root)"
   ]
  },
  {
   "cell_type": "code",
   "execution_count": 7,
   "metadata": {},
   "outputs": [
    {
     "ename": "AttributeError",
     "evalue": "'Tree' object has no attribute '_ipython_display_'",
     "output_type": "error",
     "traceback": [
      "\u001b[0;31m---------------------------------------------------------------------------\u001b[0m",
      "\u001b[0;31mAttributeError\u001b[0m                            Traceback (most recent call last)",
      "File \u001b[0;32m~/miniconda3/envs/zarr-viz/lib/python3.10/site-packages/IPython/core/formatters.py:921\u001b[0m, in \u001b[0;36mIPythonDisplayFormatter.__call__\u001b[0;34m(self, obj)\u001b[0m\n\u001b[1;32m    919\u001b[0m method \u001b[38;5;241m=\u001b[39m get_real_method(obj, \u001b[38;5;28mself\u001b[39m\u001b[38;5;241m.\u001b[39mprint_method)\n\u001b[1;32m    920\u001b[0m \u001b[38;5;28;01mif\u001b[39;00m method \u001b[38;5;129;01mis\u001b[39;00m \u001b[38;5;129;01mnot\u001b[39;00m \u001b[38;5;28;01mNone\u001b[39;00m:\n\u001b[0;32m--> 921\u001b[0m     \u001b[43mmethod\u001b[49m\u001b[43m(\u001b[49m\u001b[43m)\u001b[49m\n\u001b[1;32m    922\u001b[0m     \u001b[38;5;28;01mreturn\u001b[39;00m \u001b[38;5;28;01mTrue\u001b[39;00m\n",
      "File \u001b[0;32m~/miniconda3/envs/zarr-viz/lib/python3.10/site-packages/zarr/util.py:526\u001b[0m, in \u001b[0;36mTreeViewer._ipython_display_\u001b[0;34m(self)\u001b[0m\n\u001b[1;32m    524\u001b[0m \u001b[38;5;28;01mdef\u001b[39;00m \u001b[38;5;21m_ipython_display_\u001b[39m(\u001b[38;5;28mself\u001b[39m):\n\u001b[1;32m    525\u001b[0m     tree \u001b[38;5;241m=\u001b[39m tree_widget(\u001b[38;5;28mself\u001b[39m\u001b[38;5;241m.\u001b[39mgroup, expand\u001b[38;5;241m=\u001b[39m\u001b[38;5;28mself\u001b[39m\u001b[38;5;241m.\u001b[39mexpand, level\u001b[38;5;241m=\u001b[39m\u001b[38;5;28mself\u001b[39m\u001b[38;5;241m.\u001b[39mlevel)\n\u001b[0;32m--> 526\u001b[0m     \u001b[43mtree\u001b[49m\u001b[38;5;241;43m.\u001b[39;49m\u001b[43m_ipython_display_\u001b[49m()\n\u001b[1;32m    527\u001b[0m     \u001b[38;5;28;01mreturn\u001b[39;00m tree\n",
      "\u001b[0;31mAttributeError\u001b[0m: 'Tree' object has no attribute '_ipython_display_'"
     ]
    },
    {
     "data": {
      "text/plain": [
       "/\n",
       " ├── group1\n",
       " │   └── ds_in_group (100, 100) int32\n",
       " └── group2\n",
       "     └── ds_in_group (1000, 1000) int32"
      ]
     },
     "execution_count": 7,
     "metadata": {},
     "output_type": "execute_result"
    }
   ],
   "source": [
    "tree"
   ]
  },
  {
   "cell_type": "markdown",
   "metadata": {},
   "source": [
    "## How to Examine and Modify the Chunk Shape\n",
    "\n",
    "If your data is sufficiently large, Zarr will chose a chunksize for you."
   ]
  },
  {
   "cell_type": "code",
   "execution_count": null,
   "metadata": {},
   "outputs": [],
   "source": [
    "zarr_no_chunks = zarr.array(np.arange(100), chunks=True)\n",
    "zarr_no_chunks.chunks, zarr_no_chunks.shape"
   ]
  },
  {
   "cell_type": "code",
   "execution_count": null,
   "metadata": {},
   "outputs": [],
   "source": [
    "zarr_with_chunks = zarr.array(np.arange(10000000), chunks=True)\n",
    "zarr_with_chunks.chunks, zarr_with_chunks.shape"
   ]
  },
  {
   "cell_type": "markdown",
   "metadata": {},
   "source": [
    "For `zarr_with_chunks` we see the chunks are smaller than the shape, so we know the data has been chunked. Other ways to examine the chunk structure are `zarr.info` and `zarr.cdata_shape`."
   ]
  },
  {
   "cell_type": "code",
   "execution_count": null,
   "metadata": {},
   "outputs": [],
   "source": [
    "?zarr_no_chunks.cdata_shape"
   ]
  },
  {
   "cell_type": "code",
   "execution_count": null,
   "metadata": {},
   "outputs": [],
   "source": [
    "zarr_no_chunks.cdata_shape, zarr_with_chunks.cdata_shape"
   ]
  },
  {
   "cell_type": "markdown",
   "metadata": {},
   "source": [
    "For the zarr store with chunks, we see it has 64 chunks, and we can verify the number of chunks multiplied by the chunk size equals the length of the whole array."
   ]
  },
  {
   "cell_type": "code",
   "execution_count": null,
   "metadata": {},
   "outputs": [],
   "source": [
    "zarr_with_chunks.cdata_shape[0] * zarr_with_chunks.chunks[0] == zarr_with_chunks.shape[0]"
   ]
  },
  {
   "cell_type": "markdown",
   "metadata": {},
   "source": [
    "### What's the storage size of these chunks?\n",
    "\n",
    "The default chunks are pretty small."
   ]
  },
  {
   "cell_type": "code",
   "execution_count": null,
   "metadata": {},
   "outputs": [],
   "source": [
    "sys.getsizeof(zarr_with_chunks.chunk_store['0']) # this is in bytes"
   ]
  },
  {
   "cell_type": "code",
   "execution_count": null,
   "metadata": {},
   "outputs": [],
   "source": [
    "zarr_with_big_chunks = zarr.array(np.arange(10000000), chunks=(500000))"
   ]
  },
  {
   "cell_type": "code",
   "execution_count": null,
   "metadata": {},
   "outputs": [],
   "source": [
    "zarr_with_big_chunks.chunks, zarr_with_big_chunks.shape, zarr_with_big_chunks.cdata_shape"
   ]
  },
  {
   "cell_type": "code",
   "execution_count": null,
   "metadata": {},
   "outputs": [],
   "source": [
    "sys.getsizeof(zarr_with_big_chunks.chunk_store['0'])"
   ]
  },
  {
   "cell_type": "markdown",
   "metadata": {},
   "source": [
    "These chunks are still pretty small, but this is just a silly example. In the real world, you will likely want to deal in Zarr chunks of 1MB or greater, especially when dealing with remote storatge options where data is read over a network and the number of requests should be minimized."
   ]
  },
  {
   "cell_type": "markdown",
   "metadata": {},
   "source": [
    "## Exploring and Modifying Data Compression\n",
    "\n",
    "Following from the example above, we can tell that Zarr has also compressed the data for us using `zarr.info` or `zarr.compressor`. "
   ]
  },
  {
   "cell_type": "code",
   "execution_count": null,
   "metadata": {},
   "outputs": [],
   "source": [
    "zarr_with_chunks.compressor"
   ]
  },
  {
   "cell_type": "markdown",
   "metadata": {},
   "source": [
    "The `Blosc` compressor is actually a meta compressor so actually implements multiple different internal compressors. In this case, it has implemented `lz4` compression. We can also explore how much space was saved by using this compression method."
   ]
  },
  {
   "cell_type": "code",
   "execution_count": null,
   "metadata": {},
   "outputs": [],
   "source": [
    "zarr_with_chunks.info"
   ]
  },
  {
   "cell_type": "markdown",
   "metadata": {},
   "source": [
    "We can see, from the storage ratio above, that compression has made our data 155 times smaller 😱 .\n",
    "\n",
    "You can set compression=None when created your array to turn off this behavior, but I'm not sure why you would do that.\n",
    "\n",
    "Let's see what happens when we use a different compression method. We can checkout a full list of numcodecs compressors here: [https://numcodecs.readthedocs.io/](https://numcodecs.readthedocs.io/)."
   ]
  },
  {
   "cell_type": "code",
   "execution_count": null,
   "metadata": {},
   "outputs": [],
   "source": [
    "from numcodecs import GZip\n",
    "compressor = GZip()\n",
    "zstore_gzip_compressed = zarr.array(np.arange(10000000), chunks=True, compressor=compressor)\n",
    "zstore_gzip_compressed.info"
   ]
  },
  {
   "cell_type": "markdown",
   "metadata": {},
   "source": [
    "In this case, the storage ratio is 5.3 - so not as good! How to chose a compression algorithm is a topic for future investigation."
   ]
  },
  {
   "cell_type": "markdown",
   "metadata": {},
   "source": [
    "## Consolidating metadata"
   ]
  },
  {
   "cell_type": "markdown",
   "metadata": {},
   "source": [
    "It's important to consolidate metadata. So far we have only been dealing in single array Zarr data stores. In this next example, we will create a zarr store with multiple arrays and then consolidate metadata. The speed up with local storage is insignificant, but becomes significant when dealing in remote storage options, which we will see in the following example on accessing cloud storage."
   ]
  },
  {
   "cell_type": "code",
   "execution_count": null,
   "metadata": {},
   "outputs": [],
   "source": [
    "root = zarr.group()\n",
    "zarr_store = 'example.zarr'\n",
    "# Let's create many groups and many arrays\n",
    "num_groups, num_arrays_per_group = 100, 100\n",
    "for i in range(num_groups):\n",
    "    group = root.create_group(f'group-{i}')\n",
    "    for j in range(num_arrays_per_group):\n",
    "        group.create_dataset(f'array-{j}', shape=(1000,1000), dtype='i4')\n",
    "\n",
    "store = zarr.DirectoryStore(zarr_store)\n",
    "zarr.save(store, root)"
   ]
  },
  {
   "cell_type": "code",
   "execution_count": null,
   "metadata": {},
   "outputs": [],
   "source": [
    "!cat {zarr_store}/.zmetadata"
   ]
  },
  {
   "cell_type": "code",
   "execution_count": null,
   "metadata": {},
   "outputs": [],
   "source": [
    "zarr.consolidate_metadata(zarr_store)"
   ]
  },
  {
   "cell_type": "code",
   "execution_count": null,
   "metadata": {},
   "outputs": [],
   "source": [
    "zarr.open_consolidated(zarr_store)"
   ]
  },
  {
   "cell_type": "code",
   "execution_count": null,
   "metadata": {},
   "outputs": [],
   "source": [
    "!cat {zarr_store}/.zmetadata"
   ]
  },
  {
   "cell_type": "markdown",
   "metadata": {},
   "source": [
    "# Example of Cloud-Optimized Access for this Format\n",
    "\n",
    "Fortunately, there are many publicly accessible cloud archives of Zarr data.\n",
    "\n",
    "Zarr provides storage backends for all of these cloud providers: [Zarr Tutorial - Distributed/cloud storage](https://zarr.readthedocs.io/en/stable/tutorial.html#distributed-cloud-storage).\n",
    "\n",
    "Here are a few we are aware of:\n",
    "\n",
    "* [Zarr data in Microsoft's Planetary Computer](https://planetarycomputer.microsoft.com/catalog?filter=zarr)\n",
    "* [Zarr data from Google](https://console.cloud.google.com/marketplace/browse?filter=solution-type:dataset&_ga=2.226354714.1000882083.1692116148-1788942020.1692116148&pli=1&q=zarr)\n",
    "* [Amazon Sustainability Data Initiative available from Registry of Open Data on AWS](https://registry.opendata.aws/collab/asdi/) - Enter \"Zarr\" in the Search input box.\n",
    "* [Pangeo-Forge Data Catalog](https://pangeo-forge.org/catalog)\n",
    "\n",
    "The Pangeo-Forge Data Catalog provides handy examples of how to open each dataset, for example, from the [Global Precipitation Climatology Project (GPCP)](https://pangeo-forge.org/dashboard/feedstock/42) page:"
   ]
  },
  {
   "cell_type": "code",
   "execution_count": null,
   "metadata": {},
   "outputs": [],
   "source": [
    "store = 'https://ncsa.osn.xsede.org/Pangeo/pangeo-forge/gpcp-feedstock/gpcp.zarr'"
   ]
  },
  {
   "cell_type": "code",
   "execution_count": null,
   "metadata": {},
   "outputs": [],
   "source": [
    "ds = xr.open_dataset(store, engine='zarr', chunks={}, consolidated=True)\n",
    "ds"
   ]
  },
  {
   "cell_type": "markdown",
   "metadata": {},
   "source": [
    "Microsoft's Planetary Computer goes above and beyond, providing tutorials alongside each dataset. We recommend exploring these on your own to get an idea of what you can do with Zarr and Xarray. See all tutorials here: [microsoft/PlanetaryComputerExamples](https://github.com/microsoft/PlanetaryComputerExamples/tree/main/tutorials). Note, this repo contains ALL tutorials, not just Zarr tutorials, so you may want to filter for Zarr.\n",
    "\n",
    "For example, from https://planetarycomputer.microsoft.com/dataset/daymet-daily-pr#Example-Notebook:"
   ]
  },
  {
   "cell_type": "code",
   "execution_count": null,
   "metadata": {},
   "outputs": [],
   "source": [
    "import cartopy.crs as ccrs\n",
    "import fsspec\n",
    "import matplotlib.pyplot as plt\n",
    "import pystac\n",
    "import xarray as xr\n",
    "import warnings\n",
    "\n",
    "warnings.simplefilter(\"ignore\", RuntimeWarning)"
   ]
  },
  {
   "cell_type": "code",
   "execution_count": null,
   "metadata": {},
   "outputs": [],
   "source": [
    "url = \"https://planetarycomputer.microsoft.com/api/stac/v1/collections/daymet-daily-hi\"\n",
    "collection = pystac.read_file(url)\n",
    "asset = collection.assets[\"zarr-https\"]\n",
    "store = fsspec.get_mapper(asset.href)\n",
    "ds = xr.open_zarr(store, **asset.extra_fields[\"xarray:open_kwargs\"])\n",
    "ds"
   ]
  },
  {
   "cell_type": "markdown",
   "metadata": {},
   "source": [
    "# Additional Resources\n",
    "\n",
    "* Jupyter Notebook for a high level overview of Zarr on Google Cloud: [![image](https://colab.research.google.com/assets/colab-badge.svg)](https://githubtocolab.com/tyson-swetnam/agic-2022/blob/main/docs/notebooks/zarr.ipynb)"
   ]
  }
 ],
 "metadata": {
  "kernelspec": {
   "display_name": "Python [conda env:zarr-viz]",
   "language": "python",
   "name": "conda-env-zarr-viz-py"
  },
  "language_info": {
   "codemirror_mode": {
    "name": "ipython",
    "version": 3
   },
   "file_extension": ".py",
   "mimetype": "text/x-python",
   "name": "python",
   "nbconvert_exporter": "python",
   "pygments_lexer": "ipython3",
   "version": "3.10.5"
  }
 },
 "nbformat": 4,
 "nbformat_minor": 4
}
