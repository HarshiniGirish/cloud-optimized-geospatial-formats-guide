{
 "cells": [
  {
   "cell_type": "markdown",
   "metadata": {},
   "source": [
    "# GeoParquet Example\n",
    "\n",
    "This notebook will give an overview of how to read and write GeoParquet files with GeoPandas, putting an emphasis on cloud-native operations where possible.\n",
    "\n",
    "The easiest way to read and write GeoParquet files is to use GeoPandas' [`read_parquet`](https://geopandas.org/en/stable/docs/reference/api/geopandas.read_parquet.html) and [`to_parquet`](https://geopandas.org/en/stable/docs/reference/api/geopandas.GeoDataFrame.to_parquet.html) functions.\n",
    "\n",
    "::: {.callout-note}\n",
    "\n",
    "Make sure to use the specific `read_parquet` and `to_parquet` functions. These will be much, much faster than using the usual `read_file` and `to_file`.\n",
    "\n",
    ":::"
   ]
  },
  {
   "cell_type": "markdown",
   "metadata": {},
   "source": [
    "## Package versions\n",
    "\n",
    "This notebook requires the dependency [`pyarrow`](https://pypi.org/project/pyarrow/) as well as the GDAL CLI with the Parquet driver installed.\n",
    "\n",
    "To install `pyarrow` you can use pip:\n",
    "\n",
    "```bash\n",
    "!pip install pyarrow\n",
    "```\n",
    "\n",
    "To install the GDAL CLI with Parquet driver you can use Mamba\n",
    "\n",
    "```bash\n",
    "!mamba install -c conda-forge libgdal-arrow-parquet\n",
    "```\n",
    "\n",
    "or if you're on MacOS, you can use `brew` to install GDAL including Parquet support:\n",
    "\n",
    "```bash\n",
    "brew install gdal\n",
    "```"
   ]
  },
  {
   "cell_type": "markdown",
   "metadata": {},
   "source": [
    "## Imports"
   ]
  },
  {
   "cell_type": "markdown",
   "metadata": {},
   "source": []
  },
  {
   "cell_type": "code",
   "execution_count": 1,
   "metadata": {},
   "outputs": [],
   "source": [
    "from urllib.request import urlretrieve\n",
    "\n",
    "import fsspec\n",
    "import geopandas as gpd\n",
    "from fsspec.implementations.http import HTTPFileSystem"
   ]
  },
  {
   "cell_type": "markdown",
   "metadata": {},
   "source": [
    "## Comparison with FlatGeobuf\n",
    "\n",
    "In order to compare reading GeoParquet with FlatGeobuf, we'll cover reading and writing GeoParquet files on local disk storage. To be consistent with the FlatGeobuf example, we'll fetch the same US counties FlatGeobuf file (13 MB) and convert it to GeoParquet using `ogr2ogr`."
   ]
  },
  {
   "cell_type": "code",
   "execution_count": 2,
   "metadata": {},
   "outputs": [],
   "source": [
    "# URL to download\n",
    "url = \"https://flatgeobuf.org/test/data/UScounties.fgb\"\n",
    "\n",
    "# Download, saving to the current directory\n",
    "local_fgb_path, _ = urlretrieve(url, \"countries.fgb\")"
   ]
  },
  {
   "cell_type": "code",
   "execution_count": 3,
   "metadata": {},
   "outputs": [],
   "source": [
    "!ogr2ogr countries.parquet countries.fgb"
   ]
  },
  {
   "cell_type": "markdown",
   "metadata": {},
   "source": [
    "Loading this GeoParquet file is really fast! 13% faster than loading the same data via FlatGeobuf (shown in the FlatGeobuf example notebook)."
   ]
  },
  {
   "cell_type": "code",
   "execution_count": 5,
   "metadata": {},
   "outputs": [
    {
     "name": "stdout",
     "output_type": "stream",
     "text": [
      "CPU times: user 23.8 ms, sys: 11.8 ms, total: 35.6 ms\n",
      "Wall time: 34.1 ms\n"
     ]
    }
   ],
   "source": [
    "%time gdf = gpd.read_parquet(\"countries.parquet\")"
   ]
  },
  {
   "cell_type": "code",
   "execution_count": 6,
   "metadata": {},
   "outputs": [
    {
     "data": {
      "text/html": [
       "<div>\n",
       "<style scoped>\n",
       "    .dataframe tbody tr th:only-of-type {\n",
       "        vertical-align: middle;\n",
       "    }\n",
       "\n",
       "    .dataframe tbody tr th {\n",
       "        vertical-align: top;\n",
       "    }\n",
       "\n",
       "    .dataframe thead th {\n",
       "        text-align: right;\n",
       "    }\n",
       "</style>\n",
       "<table border=\"1\" class=\"dataframe\">\n",
       "  <thead>\n",
       "    <tr style=\"text-align: right;\">\n",
       "      <th></th>\n",
       "      <th>STATE_FIPS</th>\n",
       "      <th>COUNTY_FIP</th>\n",
       "      <th>FIPS</th>\n",
       "      <th>STATE</th>\n",
       "      <th>NAME</th>\n",
       "      <th>LSAD</th>\n",
       "      <th>geometry</th>\n",
       "    </tr>\n",
       "  </thead>\n",
       "  <tbody>\n",
       "    <tr>\n",
       "      <th>0</th>\n",
       "      <td>23</td>\n",
       "      <td>009</td>\n",
       "      <td>23009</td>\n",
       "      <td>ME</td>\n",
       "      <td>Hancock</td>\n",
       "      <td>County</td>\n",
       "      <td>MULTIPOLYGON (((-68.53108 44.33278, -68.53348 ...</td>\n",
       "    </tr>\n",
       "    <tr>\n",
       "      <th>1</th>\n",
       "      <td>33</td>\n",
       "      <td>007</td>\n",
       "      <td>33007</td>\n",
       "      <td>NH</td>\n",
       "      <td>Coos</td>\n",
       "      <td>County</td>\n",
       "      <td>MULTIPOLYGON (((-71.05975 45.01485, -71.06939 ...</td>\n",
       "    </tr>\n",
       "    <tr>\n",
       "      <th>2</th>\n",
       "      <td>50</td>\n",
       "      <td>009</td>\n",
       "      <td>50009</td>\n",
       "      <td>VT</td>\n",
       "      <td>Essex</td>\n",
       "      <td>County</td>\n",
       "      <td>MULTIPOLYGON (((-71.49463 44.90874, -71.49392 ...</td>\n",
       "    </tr>\n",
       "    <tr>\n",
       "      <th>3</th>\n",
       "      <td>50</td>\n",
       "      <td>019</td>\n",
       "      <td>50019</td>\n",
       "      <td>VT</td>\n",
       "      <td>Orleans</td>\n",
       "      <td>County</td>\n",
       "      <td>MULTIPOLYGON (((-72.14193 45.00600, -72.16051 ...</td>\n",
       "    </tr>\n",
       "    <tr>\n",
       "      <th>4</th>\n",
       "      <td>23</td>\n",
       "      <td>007</td>\n",
       "      <td>23007</td>\n",
       "      <td>ME</td>\n",
       "      <td>Franklin</td>\n",
       "      <td>County</td>\n",
       "      <td>MULTIPOLYGON (((-70.83471 45.27514, -70.77984 ...</td>\n",
       "    </tr>\n",
       "    <tr>\n",
       "      <th>...</th>\n",
       "      <td>...</td>\n",
       "      <td>...</td>\n",
       "      <td>...</td>\n",
       "      <td>...</td>\n",
       "      <td>...</td>\n",
       "      <td>...</td>\n",
       "      <td>...</td>\n",
       "    </tr>\n",
       "    <tr>\n",
       "      <th>3216</th>\n",
       "      <td>15</td>\n",
       "      <td>003</td>\n",
       "      <td>15003</td>\n",
       "      <td>HI</td>\n",
       "      <td>Honolulu</td>\n",
       "      <td>County</td>\n",
       "      <td>MULTIPOLYGON (((-171.73761 25.79210, -171.7513...</td>\n",
       "    </tr>\n",
       "    <tr>\n",
       "      <th>3217</th>\n",
       "      <td>15</td>\n",
       "      <td>007</td>\n",
       "      <td>15007</td>\n",
       "      <td>HI</td>\n",
       "      <td>Kauai</td>\n",
       "      <td>County</td>\n",
       "      <td>MULTIPOLYGON (((-160.55535 21.66345, -160.5541...</td>\n",
       "    </tr>\n",
       "    <tr>\n",
       "      <th>3218</th>\n",
       "      <td>15</td>\n",
       "      <td>009</td>\n",
       "      <td>15009</td>\n",
       "      <td>HI</td>\n",
       "      <td>Maui</td>\n",
       "      <td>County</td>\n",
       "      <td>MULTIPOLYGON (((-157.06121 20.89150, -157.0611...</td>\n",
       "    </tr>\n",
       "    <tr>\n",
       "      <th>3219</th>\n",
       "      <td>15</td>\n",
       "      <td>001</td>\n",
       "      <td>15001</td>\n",
       "      <td>HI</td>\n",
       "      <td>Hawaii</td>\n",
       "      <td>County</td>\n",
       "      <td>MULTIPOLYGON (((-155.08767 19.72887, -155.0909...</td>\n",
       "    </tr>\n",
       "    <tr>\n",
       "      <th>3220</th>\n",
       "      <td>15</td>\n",
       "      <td>005</td>\n",
       "      <td>15005</td>\n",
       "      <td>HI</td>\n",
       "      <td>Kalawao</td>\n",
       "      <td>County</td>\n",
       "      <td>MULTIPOLYGON (((-157.01455 21.18550, -157.0145...</td>\n",
       "    </tr>\n",
       "  </tbody>\n",
       "</table>\n",
       "<p>3221 rows × 7 columns</p>\n",
       "</div>"
      ],
      "text/plain": [
       "     STATE_FIPS COUNTY_FIP   FIPS STATE      NAME    LSAD  \\\n",
       "0            23        009  23009    ME   Hancock  County   \n",
       "1            33        007  33007    NH      Coos  County   \n",
       "2            50        009  50009    VT     Essex  County   \n",
       "3            50        019  50019    VT   Orleans  County   \n",
       "4            23        007  23007    ME  Franklin  County   \n",
       "...         ...        ...    ...   ...       ...     ...   \n",
       "3216         15        003  15003    HI  Honolulu  County   \n",
       "3217         15        007  15007    HI     Kauai  County   \n",
       "3218         15        009  15009    HI      Maui  County   \n",
       "3219         15        001  15001    HI    Hawaii  County   \n",
       "3220         15        005  15005    HI   Kalawao  County   \n",
       "\n",
       "                                               geometry  \n",
       "0     MULTIPOLYGON (((-68.53108 44.33278, -68.53348 ...  \n",
       "1     MULTIPOLYGON (((-71.05975 45.01485, -71.06939 ...  \n",
       "2     MULTIPOLYGON (((-71.49463 44.90874, -71.49392 ...  \n",
       "3     MULTIPOLYGON (((-72.14193 45.00600, -72.16051 ...  \n",
       "4     MULTIPOLYGON (((-70.83471 45.27514, -70.77984 ...  \n",
       "...                                                 ...  \n",
       "3216  MULTIPOLYGON (((-171.73761 25.79210, -171.7513...  \n",
       "3217  MULTIPOLYGON (((-160.55535 21.66345, -160.5541...  \n",
       "3218  MULTIPOLYGON (((-157.06121 20.89150, -157.0611...  \n",
       "3219  MULTIPOLYGON (((-155.08767 19.72887, -155.0909...  \n",
       "3220  MULTIPOLYGON (((-157.01455 21.18550, -157.0145...  \n",
       "\n",
       "[3221 rows x 7 columns]"
      ]
     },
     "execution_count": 6,
     "metadata": {},
     "output_type": "execute_result"
    }
   ],
   "source": [
    "gdf"
   ]
  },
  {
   "cell_type": "markdown",
   "metadata": {},
   "source": [
    "## Writing to local disk\n",
    "\n",
    "We can use `GeoDataFrame.to_parquet` to write out this data to GeoParquet files locally. This is about 3x faster than writing the same dataset to FlatGeobuf, but note that FlatGeobuf's writing is also calculating a spatial index."
   ]
  },
  {
   "cell_type": "code",
   "execution_count": 7,
   "metadata": {},
   "outputs": [
    {
     "name": "stdout",
     "output_type": "stream",
     "text": [
      "CPU times: user 42.3 ms, sys: 12.6 ms, total: 55 ms\n",
      "Wall time: 53.9 ms\n"
     ]
    }
   ],
   "source": [
    "%time gdf.to_parquet(\"countries_written.parquet\")"
   ]
  },
  {
   "cell_type": "markdown",
   "metadata": {},
   "source": [
    "## Reading from the cloud\n",
    "\n",
    "As of GeoParquet version 1.0.0-rc.1, spatial indexing has not yet been implemented. Therefore, there is not yet an API in GeoPandas to read data given a specific bounding box.\n",
    "\n",
    "What is already efficient in GeoParquet is reading only specified columns from a dataset."
   ]
  },
  {
   "cell_type": "code",
   "execution_count": 8,
   "metadata": {},
   "outputs": [],
   "source": [
    "url = \"https://data.source.coop/cholmes/eurocrops/unprojected/geoparquet/FR_2018_EC21.parquet\""
   ]
  },
  {
   "cell_type": "markdown",
   "metadata": {},
   "source": [
    "Note that since we're fetching this data directly from the cloud, we need to pass in an `fsspec` filesystem object. Otherwise GeoPandas will attempt to load a local file."
   ]
  },
  {
   "cell_type": "code",
   "execution_count": 9,
   "metadata": {},
   "outputs": [],
   "source": [
    "filesystem = HTTPFileSystem()"
   ]
  },
  {
   "cell_type": "markdown",
   "metadata": {},
   "source": [
    "By default, calling `read_parquet` will fetch the entire file and parse it all into a single `GeoDataFrame`. Since this is a 3GB file, downloading the file takes a long time:"
   ]
  },
  {
   "cell_type": "code",
   "execution_count": 10,
   "metadata": {},
   "outputs": [],
   "source": [
    "# This cell will take a few minutes to run, because it downloads the entire file\n",
    "# %time gdf = gpd.read_parquet(url, filesystem=filesystem)"
   ]
  },
  {
   "cell_type": "markdown",
   "metadata": {},
   "source": [
    "We can make this faster by only fetching specific columns. Because GeoParquet stores data in a columnar fashion, when selecting only specific columns we can download a lot less data."
   ]
  },
  {
   "cell_type": "code",
   "execution_count": 11,
   "metadata": {},
   "outputs": [],
   "source": [
    "# This cell will take a few minutes to run, because it downloads the entire file for these columns\n",
    "# %time gdf = gpd.read_parquet(url, columns=[\"ID_PARCEL\", \"geometry\"], filesystem=filesystem)"
   ]
  },
  {
   "cell_type": "markdown",
   "metadata": {},
   "source": [
    "## Working with GeoParquet row groups (Advanced)\n",
    "\n",
    "As described in the [intro document](./index.qmd), GeoParquet is a chunked format, which allows you to access one of the chunks of rows very efficiently. This can allow you to stream a dataset — loading and operating on one chunk at a time — if the dataset is larger than your memory.\n",
    "\n",
    "GeoPandas does not yet have built-in support for working with row groups, so this section will use the underlying [`pyarrow`](https://arrow.apache.org/docs/python/index.html) library directly."
   ]
  },
  {
   "cell_type": "code",
   "execution_count": 12,
   "metadata": {},
   "outputs": [],
   "source": [
    "import pyarrow.parquet as pq\n",
    "from geopandas.io.arrow import _arrow_to_geopandas"
   ]
  },
  {
   "cell_type": "markdown",
   "metadata": {},
   "source": [
    "First, we'll create a [`ParquetFile`](https://arrow.apache.org/docs/python/generated/pyarrow.parquet.ParquetFile.html#pyarrow.parquet.ParquetFile) object from the remote URL. All this does is load the metadata from the file, allowing you to inspect the schema and number of columns, rows, and row groups. Because this doesn't load any actual data, it's nearly instant to complete."
   ]
  },
  {
   "cell_type": "code",
   "execution_count": 15,
   "metadata": {},
   "outputs": [],
   "source": [
    "parquet_file = pq.ParquetFile(url, filesystem=filesystem)"
   ]
  },
  {
   "cell_type": "markdown",
   "metadata": {},
   "source": [
    "We can access the column names in the dataset:"
   ]
  },
  {
   "cell_type": "code",
   "execution_count": 16,
   "metadata": {},
   "outputs": [
    {
     "data": {
      "text/plain": [
       "['ID_PARCEL',\n",
       " 'SURF_PARC',\n",
       " 'CODE_CULTU',\n",
       " 'CODE_GROUP',\n",
       " 'CULTURE_D1',\n",
       " 'CULTURE_D2',\n",
       " 'EC_org_n',\n",
       " 'EC_trans_n',\n",
       " 'EC_hcat_n',\n",
       " 'EC_hcat_c',\n",
       " 'geometry']"
      ]
     },
     "execution_count": 16,
     "metadata": {},
     "output_type": "execute_result"
    }
   ],
   "source": [
    "parquet_file.schema_arrow.names"
   ]
  },
  {
   "cell_type": "markdown",
   "metadata": {},
   "source": [
    "This Parquet file includes 9.5 million rows:"
   ]
  },
  {
   "cell_type": "code",
   "execution_count": 17,
   "metadata": {},
   "outputs": [
    {
     "data": {
      "text/plain": [
       "9517874"
      ]
     },
     "execution_count": 17,
     "metadata": {},
     "output_type": "execute_result"
    }
   ],
   "source": [
    "parquet_file.metadata.num_rows"
   ]
  },
  {
   "cell_type": "markdown",
   "metadata": {},
   "source": [
    "And 146 row groups. Given that each row group is about the same number of rows, each one contains around 65,000 rows."
   ]
  },
  {
   "cell_type": "code",
   "execution_count": 18,
   "metadata": {},
   "outputs": [
    {
     "data": {
      "text/plain": [
       "146"
      ]
     },
     "execution_count": 18,
     "metadata": {},
     "output_type": "execute_result"
    }
   ],
   "source": [
    "parquet_file.num_row_groups"
   ]
  },
  {
   "cell_type": "markdown",
   "metadata": {},
   "source": [
    "Then to load one of the row groups by numeric index, we can call [`ParquetFile.read_row_group`](https://arrow.apache.org/docs/python/generated/pyarrow.parquet.ParquetFile.html#pyarrow.parquet.ParquetFile.read_row_group)."
   ]
  },
  {
   "cell_type": "code",
   "execution_count": 19,
   "metadata": {},
   "outputs": [],
   "source": [
    "pyarrow_table = parquet_file.read_row_group(0)"
   ]
  },
  {
   "cell_type": "markdown",
   "metadata": {},
   "source": [
    "Note that this returns a [`pyarrow.Table`](https://arrow.apache.org/docs/python/generated/pyarrow.Table.html#pyarrow.Table), not a `geopandas.GeoDataFrame`. To convert between the two, we can use `_arrow_to_geopandas`. This conversion is very fast."
   ]
  },
  {
   "cell_type": "code",
   "execution_count": 20,
   "metadata": {},
   "outputs": [],
   "source": [
    "geopandas_gdf = _arrow_to_geopandas(pyarrow_table, parquet_file.metadata.metadata)"
   ]
  },
  {
   "cell_type": "markdown",
   "metadata": {},
   "source": [
    "As expected, this row group contains right around 65,000 rows"
   ]
  },
  {
   "cell_type": "code",
   "execution_count": 21,
   "metadata": {},
   "outputs": [
    {
     "data": {
      "text/plain": [
       "(65536, 11)"
      ]
     },
     "execution_count": 21,
     "metadata": {},
     "output_type": "execute_result"
    }
   ],
   "source": [
    "geopandas_gdf.shape"
   ]
  },
  {
   "cell_type": "code",
   "execution_count": 22,
   "metadata": {},
   "outputs": [
    {
     "data": {
      "text/html": [
       "<div>\n",
       "<style scoped>\n",
       "    .dataframe tbody tr th:only-of-type {\n",
       "        vertical-align: middle;\n",
       "    }\n",
       "\n",
       "    .dataframe tbody tr th {\n",
       "        vertical-align: top;\n",
       "    }\n",
       "\n",
       "    .dataframe thead th {\n",
       "        text-align: right;\n",
       "    }\n",
       "</style>\n",
       "<table border=\"1\" class=\"dataframe\">\n",
       "  <thead>\n",
       "    <tr style=\"text-align: right;\">\n",
       "      <th></th>\n",
       "      <th>ID_PARCEL</th>\n",
       "      <th>SURF_PARC</th>\n",
       "      <th>CODE_CULTU</th>\n",
       "      <th>CODE_GROUP</th>\n",
       "      <th>CULTURE_D1</th>\n",
       "      <th>CULTURE_D2</th>\n",
       "      <th>EC_org_n</th>\n",
       "      <th>EC_trans_n</th>\n",
       "      <th>EC_hcat_n</th>\n",
       "      <th>EC_hcat_c</th>\n",
       "      <th>geometry</th>\n",
       "    </tr>\n",
       "  </thead>\n",
       "  <tbody>\n",
       "    <tr>\n",
       "      <th>0</th>\n",
       "      <td>123563</td>\n",
       "      <td>6.38</td>\n",
       "      <td>CZH</td>\n",
       "      <td>5</td>\n",
       "      <td>None</td>\n",
       "      <td>None</td>\n",
       "      <td>Colza d’hiver</td>\n",
       "      <td>Winter rapeseed</td>\n",
       "      <td>winter_rapeseed_rape</td>\n",
       "      <td>3301060401</td>\n",
       "      <td>MULTIPOLYGON (((3.33896 49.84122, 3.33948 49.8...</td>\n",
       "    </tr>\n",
       "    <tr>\n",
       "      <th>1</th>\n",
       "      <td>5527076</td>\n",
       "      <td>2.30</td>\n",
       "      <td>PPH</td>\n",
       "      <td>18</td>\n",
       "      <td>None</td>\n",
       "      <td>None</td>\n",
       "      <td>Prairie permanente - herbe prédominante (resso...</td>\n",
       "      <td>Permanent pasture - predominantly grass (woody...</td>\n",
       "      <td>pasture_meadow_grassland_grass</td>\n",
       "      <td>3302000000</td>\n",
       "      <td>MULTIPOLYGON (((-1.44483 49.61280, -1.44467 49...</td>\n",
       "    </tr>\n",
       "    <tr>\n",
       "      <th>2</th>\n",
       "      <td>11479241</td>\n",
       "      <td>6.33</td>\n",
       "      <td>PPH</td>\n",
       "      <td>18</td>\n",
       "      <td>None</td>\n",
       "      <td>None</td>\n",
       "      <td>Prairie permanente - herbe prédominante (resso...</td>\n",
       "      <td>Permanent pasture - predominantly grass (woody...</td>\n",
       "      <td>pasture_meadow_grassland_grass</td>\n",
       "      <td>3302000000</td>\n",
       "      <td>MULTIPOLYGON (((2.87821 46.53674, 2.87820 46.5...</td>\n",
       "    </tr>\n",
       "    <tr>\n",
       "      <th>3</th>\n",
       "      <td>12928442</td>\n",
       "      <td>5.10</td>\n",
       "      <td>PPH</td>\n",
       "      <td>18</td>\n",
       "      <td>None</td>\n",
       "      <td>None</td>\n",
       "      <td>Prairie permanente - herbe prédominante (resso...</td>\n",
       "      <td>Permanent pasture - predominantly grass (woody...</td>\n",
       "      <td>pasture_meadow_grassland_grass</td>\n",
       "      <td>3302000000</td>\n",
       "      <td>MULTIPOLYGON (((-0.19026 48.28723, -0.19025 48...</td>\n",
       "    </tr>\n",
       "    <tr>\n",
       "      <th>4</th>\n",
       "      <td>318389</td>\n",
       "      <td>0.92</td>\n",
       "      <td>PPH</td>\n",
       "      <td>18</td>\n",
       "      <td>None</td>\n",
       "      <td>None</td>\n",
       "      <td>Prairie permanente - herbe prédominante (resso...</td>\n",
       "      <td>Permanent pasture - predominantly grass (woody...</td>\n",
       "      <td>pasture_meadow_grassland_grass</td>\n",
       "      <td>3302000000</td>\n",
       "      <td>MULTIPOLYGON (((5.72084 44.03576, 5.72081 44.0...</td>\n",
       "    </tr>\n",
       "  </tbody>\n",
       "</table>\n",
       "</div>"
      ],
      "text/plain": [
       "  ID_PARCEL SURF_PARC CODE_CULTU CODE_GROUP CULTURE_D1 CULTURE_D2  \\\n",
       "0    123563      6.38        CZH          5       None       None   \n",
       "1   5527076      2.30        PPH         18       None       None   \n",
       "2  11479241      6.33        PPH         18       None       None   \n",
       "3  12928442      5.10        PPH         18       None       None   \n",
       "4    318389      0.92        PPH         18       None       None   \n",
       "\n",
       "                                            EC_org_n  \\\n",
       "0                                      Colza d’hiver   \n",
       "1  Prairie permanente - herbe prédominante (resso...   \n",
       "2  Prairie permanente - herbe prédominante (resso...   \n",
       "3  Prairie permanente - herbe prédominante (resso...   \n",
       "4  Prairie permanente - herbe prédominante (resso...   \n",
       "\n",
       "                                          EC_trans_n  \\\n",
       "0                                    Winter rapeseed   \n",
       "1  Permanent pasture - predominantly grass (woody...   \n",
       "2  Permanent pasture - predominantly grass (woody...   \n",
       "3  Permanent pasture - predominantly grass (woody...   \n",
       "4  Permanent pasture - predominantly grass (woody...   \n",
       "\n",
       "                        EC_hcat_n   EC_hcat_c  \\\n",
       "0            winter_rapeseed_rape  3301060401   \n",
       "1  pasture_meadow_grassland_grass  3302000000   \n",
       "2  pasture_meadow_grassland_grass  3302000000   \n",
       "3  pasture_meadow_grassland_grass  3302000000   \n",
       "4  pasture_meadow_grassland_grass  3302000000   \n",
       "\n",
       "                                            geometry  \n",
       "0  MULTIPOLYGON (((3.33896 49.84122, 3.33948 49.8...  \n",
       "1  MULTIPOLYGON (((-1.44483 49.61280, -1.44467 49...  \n",
       "2  MULTIPOLYGON (((2.87821 46.53674, 2.87820 46.5...  \n",
       "3  MULTIPOLYGON (((-0.19026 48.28723, -0.19025 48...  \n",
       "4  MULTIPOLYGON (((5.72084 44.03576, 5.72081 44.0...  "
      ]
     },
     "execution_count": 22,
     "metadata": {},
     "output_type": "execute_result"
    }
   ],
   "source": [
    "geopandas_gdf.head()"
   ]
  },
  {
   "cell_type": "markdown",
   "metadata": {},
   "source": [
    "As before, we can speed up the data fetching by requesting only specific columns in the `read_row_group` call.:"
   ]
  },
  {
   "cell_type": "code",
   "execution_count": 23,
   "metadata": {},
   "outputs": [],
   "source": [
    "pyarrow_table = parquet_file.read_row_group(0, columns=[\"ID_PARCEL\", \"geometry\"])"
   ]
  },
  {
   "cell_type": "markdown",
   "metadata": {},
   "source": [
    "Then the resulting `GeoDataFrame` will only have those two columns:"
   ]
  },
  {
   "cell_type": "code",
   "execution_count": 24,
   "metadata": {},
   "outputs": [
    {
     "data": {
      "text/html": [
       "<div>\n",
       "<style scoped>\n",
       "    .dataframe tbody tr th:only-of-type {\n",
       "        vertical-align: middle;\n",
       "    }\n",
       "\n",
       "    .dataframe tbody tr th {\n",
       "        vertical-align: top;\n",
       "    }\n",
       "\n",
       "    .dataframe thead th {\n",
       "        text-align: right;\n",
       "    }\n",
       "</style>\n",
       "<table border=\"1\" class=\"dataframe\">\n",
       "  <thead>\n",
       "    <tr style=\"text-align: right;\">\n",
       "      <th></th>\n",
       "      <th>ID_PARCEL</th>\n",
       "      <th>geometry</th>\n",
       "    </tr>\n",
       "  </thead>\n",
       "  <tbody>\n",
       "    <tr>\n",
       "      <th>0</th>\n",
       "      <td>123563</td>\n",
       "      <td>MULTIPOLYGON (((3.33896 49.84122, 3.33948 49.8...</td>\n",
       "    </tr>\n",
       "    <tr>\n",
       "      <th>1</th>\n",
       "      <td>5527076</td>\n",
       "      <td>MULTIPOLYGON (((-1.44483 49.61280, -1.44467 49...</td>\n",
       "    </tr>\n",
       "    <tr>\n",
       "      <th>2</th>\n",
       "      <td>11479241</td>\n",
       "      <td>MULTIPOLYGON (((2.87821 46.53674, 2.87820 46.5...</td>\n",
       "    </tr>\n",
       "    <tr>\n",
       "      <th>3</th>\n",
       "      <td>12928442</td>\n",
       "      <td>MULTIPOLYGON (((-0.19026 48.28723, -0.19025 48...</td>\n",
       "    </tr>\n",
       "    <tr>\n",
       "      <th>4</th>\n",
       "      <td>318389</td>\n",
       "      <td>MULTIPOLYGON (((5.72084 44.03576, 5.72081 44.0...</td>\n",
       "    </tr>\n",
       "  </tbody>\n",
       "</table>\n",
       "</div>"
      ],
      "text/plain": [
       "  ID_PARCEL                                           geometry\n",
       "0    123563  MULTIPOLYGON (((3.33896 49.84122, 3.33948 49.8...\n",
       "1   5527076  MULTIPOLYGON (((-1.44483 49.61280, -1.44467 49...\n",
       "2  11479241  MULTIPOLYGON (((2.87821 46.53674, 2.87820 46.5...\n",
       "3  12928442  MULTIPOLYGON (((-0.19026 48.28723, -0.19025 48...\n",
       "4    318389  MULTIPOLYGON (((5.72084 44.03576, 5.72081 44.0..."
      ]
     },
     "execution_count": 24,
     "metadata": {},
     "output_type": "execute_result"
    }
   ],
   "source": [
    "_arrow_to_geopandas(pyarrow_table, parquet_file.metadata.metadata).head()"
   ]
  },
  {
   "cell_type": "markdown",
   "metadata": {},
   "source": []
  },
  {
   "cell_type": "markdown",
   "metadata": {},
   "source": []
  }
 ],
 "metadata": {
  "kernelspec": {
   "display_name": "Python 3",
   "language": "python",
   "name": "python3"
  },
  "language_info": {
   "codemirror_mode": {
    "name": "ipython",
    "version": 3
   },
   "file_extension": ".py",
   "mimetype": "text/x-python",
   "name": "python",
   "nbconvert_exporter": "python",
   "pygments_lexer": "ipython3",
   "version": "3.11.4"
  },
  "orig_nbformat": 4
 },
 "nbformat": 4,
 "nbformat_minor": 2
}
