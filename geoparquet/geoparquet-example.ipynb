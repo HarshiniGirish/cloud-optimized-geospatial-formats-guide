{
 "cells": [
  {
   "cell_type": "markdown",
   "metadata": {},
   "source": [
    "# GeoParquet Example\n",
    "\n",
    "This notebook will give an overview of how to read and write GeoParquet files with GeoPandas, putting an emphasis on cloud-native operations where possible.\n",
    "\n",
    "The easiest way to read and write GeoParquet files is to use GeoPandas' [`read_parquet`](https://geopandas.org/en/stable/docs/reference/api/geopandas.read_parquet.html) and [`to_geoparquet`](https://geopandas.org/en/stable/docs/reference/api/geopandas.GeoDataFrame.to_parquet.html) functions.\n",
    "\n",
    "::: {.callout-note}\n",
    "\n",
    "Make sure to use the specific `read_parquet` and `to_parquet` functions. These will be much, much faster than using the usual `read_file` and `to_file`.\n",
    "\n",
    ":::"
   ]
  },
  {
   "cell_type": "code",
   "execution_count": 4,
   "metadata": {},
   "outputs": [],
   "source": [
    "from urllib.request import urlretrieve\n",
    "\n",
    "import fsspec\n",
    "import geopandas as gpd\n",
    "from fsspec.implementations.http import HTTPFileSystem"
   ]
  },
  {
   "cell_type": "markdown",
   "metadata": {},
   "source": [
    "## Comparison with FlatGeobuf\n",
    "\n",
    "In order to compare reading GeoParquet with FlatGeobuf, we'll cover reading and writing GeoParquet files on local disk storage. To be consistent with the FlatGeobuf example, we'll fetch the same US counties FlatGeobuf file (13 MB) and convert it to GeoParquet using `ogr2ogr`."
   ]
  },
  {
   "cell_type": "code",
   "execution_count": 4,
   "metadata": {},
   "outputs": [],
   "source": [
    "# URL to download\n",
    "url = \"https://flatgeobuf.org/test/data/UScounties.fgb\"\n",
    "\n",
    "# Download, saving to the current directory\n",
    "local_fgb_path, _ = urlretrieve(url, \"countries.fgb\")"
   ]
  },
  {
   "cell_type": "code",
   "execution_count": 5,
   "metadata": {},
   "outputs": [],
   "source": [
    "!ogr2ogr countries.parquet countries.fgb"
   ]
  },
  {
   "cell_type": "markdown",
   "metadata": {},
   "source": [
    "Loading this GeoParquet file is really fast! 13% faster than loading the same data via FlatGeobuf (shown in the FlatGeobuf example notebook)."
   ]
  },
  {
   "cell_type": "code",
   "execution_count": 20,
   "metadata": {},
   "outputs": [
    {
     "name": "stdout",
     "output_type": "stream",
     "text": [
      "21.2 ms ± 266 µs per loop (mean ± std. dev. of 7 runs, 10 loops each)\n"
     ]
    }
   ],
   "source": [
    "%timeit gdf = gpd.read_parquet(\"countries.parquet\")"
   ]
  },
  {
   "cell_type": "markdown",
   "metadata": {},
   "source": [
    "## Writing to local disk\n",
    "\n",
    "We can use `GeoDataFrame.to_parquet` to write out this data to GeoParquet files locally. This is about 3x faster than writing the same dataset to FlatGeobuf, but note that FlatGeobuf's writing is also calculating a spatial index."
   ]
  },
  {
   "cell_type": "code",
   "execution_count": 22,
   "metadata": {},
   "outputs": [
    {
     "name": "stdout",
     "output_type": "stream",
     "text": [
      "35.9 ms ± 723 µs per loop (mean ± std. dev. of 7 runs, 10 loops each)\n"
     ]
    }
   ],
   "source": [
    "%timeit gdf.to_parquet(\"countries_written.parquet\")"
   ]
  },
  {
   "cell_type": "markdown",
   "metadata": {},
   "source": [
    "## Reading from the cloud\n",
    "\n",
    "As of GeoParquet version 1.0.0-rc.1, spatial indexing has not yet been implemented. Therefore, there is not yet an API in GeoPandas to read data given a specific bounding box.\n",
    "\n",
    "What is already efficient in GeoParquet is reading only specified columns from a dataset."
   ]
  },
  {
   "cell_type": "code",
   "execution_count": 5,
   "metadata": {},
   "outputs": [],
   "source": [
    "url = \"https://data.source.coop/cholmes/eurocrops/unprojected/geoparquet/FR_2018_EC21.parquet\""
   ]
  },
  {
   "cell_type": "markdown",
   "metadata": {},
   "source": [
    "Note that since we're fetching this data directly from the cloud, we need to pass in an `fsspec` filesystem object. Otherwise GeoPandas will attempt to load a local file."
   ]
  },
  {
   "cell_type": "code",
   "execution_count": 6,
   "metadata": {},
   "outputs": [],
   "source": [
    "filesystem = HTTPFileSystem()"
   ]
  },
  {
   "cell_type": "markdown",
   "metadata": {},
   "source": [
    "By default, calling `read_parquet` will fetch the entire file and parse it all into a single `GeoDataFrame`. Since this is a 3GB file, downloading the file takes a long time:"
   ]
  },
  {
   "cell_type": "code",
   "execution_count": 12,
   "metadata": {},
   "outputs": [
    {
     "name": "stdout",
     "output_type": "stream",
     "text": [
      "CPU times: user 27.2 s, sys: 21.3 s, total: 48.5 s\n",
      "Wall time: 5min 56s\n"
     ]
    }
   ],
   "source": [
    "%time gdf = gpd.read_parquet(url, filesystem=filesystem)"
   ]
  },
  {
   "cell_type": "markdown",
   "metadata": {},
   "source": [
    "We can make this faster by only fetching specific columns. Because GeoParquet stores data in a columnar fashion, when selecting only specific columns we can download a lot less data."
   ]
  },
  {
   "cell_type": "code",
   "execution_count": 23,
   "metadata": {},
   "outputs": [
    {
     "name": "stdout",
     "output_type": "stream",
     "text": [
      "CPU times: user 19.6 s, sys: 14 s, total: 33.6 s\n",
      "Wall time: 3min 5s\n"
     ]
    }
   ],
   "source": [
    "%time gdf = gpd.read_parquet(url, columns=[\"ID_PARCEL\", \"geometry\"], filesystem=filesystem)"
   ]
  },
  {
   "cell_type": "markdown",
   "metadata": {},
   "source": [
    "## Working with GeoParquet row groups (Advanced)\n",
    "\n",
    "As described in the [intro document](./index.qmd), GeoParquet is a chunked format, which allows you to access one of the chunks of rows very efficiently. This can allow you to stream a dataset — loading and operating on one chunk at a time — if the dataset is larger than your memory.\n",
    "\n",
    "GeoPandas does not yet have built-in support for working with row groups, so this section will use the underlying [`pyarrow`](https://arrow.apache.org/docs/python/index.html) library directly."
   ]
  },
  {
   "cell_type": "code",
   "execution_count": 18,
   "metadata": {},
   "outputs": [],
   "source": [
    "import pyarrow.parquet as pq\n",
    "from geopandas.io.arrow import _arrow_to_geopandas"
   ]
  },
  {
   "cell_type": "markdown",
   "metadata": {},
   "source": [
    "First, we'll create a [`ParquetFile`](https://arrow.apache.org/docs/python/generated/pyarrow.parquet.ParquetFile.html#pyarrow.parquet.ParquetFile) object from the remote URL. All this does is load the metadata from the file, allowing you to inspect the schema and number of columns, rows, and row groups. Because this doesn't load any actual data, it's nearly instant to complete."
   ]
  },
  {
   "cell_type": "code",
   "execution_count": 10,
   "metadata": {},
   "outputs": [],
   "source": [
    "parquet_file = pq.ParquetFile(url, filesystem=filesystem)"
   ]
  },
  {
   "cell_type": "markdown",
   "metadata": {},
   "source": [
    "We can access the column names in the dataset:"
   ]
  },
  {
   "cell_type": "code",
   "execution_count": 23,
   "metadata": {},
   "outputs": [
    {
     "data": {
      "text/plain": [
       "['ID_PARCEL',\n",
       " 'SURF_PARC',\n",
       " 'CODE_CULTU',\n",
       " 'CODE_GROUP',\n",
       " 'CULTURE_D1',\n",
       " 'CULTURE_D2',\n",
       " 'EC_org_n',\n",
       " 'EC_trans_n',\n",
       " 'EC_hcat_n',\n",
       " 'EC_hcat_c',\n",
       " 'geometry']"
      ]
     },
     "execution_count": 23,
     "metadata": {},
     "output_type": "execute_result"
    }
   ],
   "source": [
    "parquet_file.schema_arrow.names"
   ]
  },
  {
   "cell_type": "markdown",
   "metadata": {},
   "source": [
    "As well as the number of row groups:"
   ]
  },
  {
   "cell_type": "code",
   "execution_count": 11,
   "metadata": {},
   "outputs": [
    {
     "data": {
      "text/plain": [
       "146"
      ]
     },
     "execution_count": 11,
     "metadata": {},
     "output_type": "execute_result"
    }
   ],
   "source": [
    "parquet_file.num_row_groups"
   ]
  },
  {
   "cell_type": "markdown",
   "metadata": {},
   "source": [
    "Then to load one of the row groups by numeric index, we can call [`ParquetFile.read_row_group`](https://arrow.apache.org/docs/python/generated/pyarrow.parquet.ParquetFile.html#pyarrow.parquet.ParquetFile.read_row_group)."
   ]
  },
  {
   "cell_type": "code",
   "execution_count": 12,
   "metadata": {},
   "outputs": [],
   "source": [
    "pyarrow_table = parquet_file.read_row_group(0)"
   ]
  },
  {
   "cell_type": "markdown",
   "metadata": {},
   "source": [
    "Note that this returns a [`pyarrow.Table`](https://arrow.apache.org/docs/python/generated/pyarrow.Table.html#pyarrow.Table), not a `geopandas.GeoDataFrame`. To convert between the two, we can use `_arrow_to_geopandas`. This conversion is very fast."
   ]
  },
  {
   "cell_type": "code",
   "execution_count": 27,
   "metadata": {},
   "outputs": [
    {
     "data": {
      "text/html": [
       "<div>\n",
       "<style scoped>\n",
       "    .dataframe tbody tr th:only-of-type {\n",
       "        vertical-align: middle;\n",
       "    }\n",
       "\n",
       "    .dataframe tbody tr th {\n",
       "        vertical-align: top;\n",
       "    }\n",
       "\n",
       "    .dataframe thead th {\n",
       "        text-align: right;\n",
       "    }\n",
       "</style>\n",
       "<table border=\"1\" class=\"dataframe\">\n",
       "  <thead>\n",
       "    <tr style=\"text-align: right;\">\n",
       "      <th></th>\n",
       "      <th>ID_PARCEL</th>\n",
       "      <th>SURF_PARC</th>\n",
       "      <th>CODE_CULTU</th>\n",
       "      <th>CODE_GROUP</th>\n",
       "      <th>CULTURE_D1</th>\n",
       "      <th>CULTURE_D2</th>\n",
       "      <th>EC_org_n</th>\n",
       "      <th>EC_trans_n</th>\n",
       "      <th>EC_hcat_n</th>\n",
       "      <th>EC_hcat_c</th>\n",
       "      <th>geometry</th>\n",
       "    </tr>\n",
       "  </thead>\n",
       "  <tbody>\n",
       "    <tr>\n",
       "      <th>0</th>\n",
       "      <td>123563</td>\n",
       "      <td>6.38</td>\n",
       "      <td>CZH</td>\n",
       "      <td>5</td>\n",
       "      <td>None</td>\n",
       "      <td>None</td>\n",
       "      <td>Colza d’hiver</td>\n",
       "      <td>Winter rapeseed</td>\n",
       "      <td>winter_rapeseed_rape</td>\n",
       "      <td>3301060401</td>\n",
       "      <td>MULTIPOLYGON (((3.33896 49.84122, 3.33948 49.8...</td>\n",
       "    </tr>\n",
       "    <tr>\n",
       "      <th>1</th>\n",
       "      <td>5527076</td>\n",
       "      <td>2.30</td>\n",
       "      <td>PPH</td>\n",
       "      <td>18</td>\n",
       "      <td>None</td>\n",
       "      <td>None</td>\n",
       "      <td>Prairie permanente - herbe prédominante (resso...</td>\n",
       "      <td>Permanent pasture - predominantly grass (woody...</td>\n",
       "      <td>pasture_meadow_grassland_grass</td>\n",
       "      <td>3302000000</td>\n",
       "      <td>MULTIPOLYGON (((-1.44483 49.61280, -1.44467 49...</td>\n",
       "    </tr>\n",
       "    <tr>\n",
       "      <th>2</th>\n",
       "      <td>11479241</td>\n",
       "      <td>6.33</td>\n",
       "      <td>PPH</td>\n",
       "      <td>18</td>\n",
       "      <td>None</td>\n",
       "      <td>None</td>\n",
       "      <td>Prairie permanente - herbe prédominante (resso...</td>\n",
       "      <td>Permanent pasture - predominantly grass (woody...</td>\n",
       "      <td>pasture_meadow_grassland_grass</td>\n",
       "      <td>3302000000</td>\n",
       "      <td>MULTIPOLYGON (((2.87821 46.53674, 2.87820 46.5...</td>\n",
       "    </tr>\n",
       "    <tr>\n",
       "      <th>3</th>\n",
       "      <td>12928442</td>\n",
       "      <td>5.10</td>\n",
       "      <td>PPH</td>\n",
       "      <td>18</td>\n",
       "      <td>None</td>\n",
       "      <td>None</td>\n",
       "      <td>Prairie permanente - herbe prédominante (resso...</td>\n",
       "      <td>Permanent pasture - predominantly grass (woody...</td>\n",
       "      <td>pasture_meadow_grassland_grass</td>\n",
       "      <td>3302000000</td>\n",
       "      <td>MULTIPOLYGON (((-0.19026 48.28723, -0.19025 48...</td>\n",
       "    </tr>\n",
       "    <tr>\n",
       "      <th>4</th>\n",
       "      <td>318389</td>\n",
       "      <td>0.92</td>\n",
       "      <td>PPH</td>\n",
       "      <td>18</td>\n",
       "      <td>None</td>\n",
       "      <td>None</td>\n",
       "      <td>Prairie permanente - herbe prédominante (resso...</td>\n",
       "      <td>Permanent pasture - predominantly grass (woody...</td>\n",
       "      <td>pasture_meadow_grassland_grass</td>\n",
       "      <td>3302000000</td>\n",
       "      <td>MULTIPOLYGON (((5.72084 44.03576, 5.72081 44.0...</td>\n",
       "    </tr>\n",
       "  </tbody>\n",
       "</table>\n",
       "</div>"
      ],
      "text/plain": [
       "  ID_PARCEL  ...                                           geometry\n",
       "0    123563  ...  MULTIPOLYGON (((3.33896 49.84122, 3.33948 49.8...\n",
       "1   5527076  ...  MULTIPOLYGON (((-1.44483 49.61280, -1.44467 49...\n",
       "2  11479241  ...  MULTIPOLYGON (((2.87821 46.53674, 2.87820 46.5...\n",
       "3  12928442  ...  MULTIPOLYGON (((-0.19026 48.28723, -0.19025 48...\n",
       "4    318389  ...  MULTIPOLYGON (((5.72084 44.03576, 5.72081 44.0...\n",
       "\n",
       "[5 rows x 11 columns]"
      ]
     },
     "execution_count": 27,
     "metadata": {},
     "output_type": "execute_result"
    }
   ],
   "source": [
    "geopandas_gdf = _arrow_to_geopandas(pyarrow_table, parquet_file.metadata.metadata)\n",
    "geopandas_gdf.head()"
   ]
  },
  {
   "cell_type": "markdown",
   "metadata": {},
   "source": [
    "As before, we can speed up the data fetching by requesting only specific columns in the `read_row_group` call.:"
   ]
  },
  {
   "cell_type": "code",
   "execution_count": 28,
   "metadata": {},
   "outputs": [],
   "source": [
    "pyarrow_table = parquet_file.read_row_group(0, columns=[\"ID_PARCEL\", \"geometry\"])"
   ]
  },
  {
   "cell_type": "markdown",
   "metadata": {},
   "source": [
    "Then the resulting `GeoDataFrame` will only have those two columns:"
   ]
  },
  {
   "cell_type": "code",
   "execution_count": 29,
   "metadata": {},
   "outputs": [
    {
     "data": {
      "text/html": [
       "<div>\n",
       "<style scoped>\n",
       "    .dataframe tbody tr th:only-of-type {\n",
       "        vertical-align: middle;\n",
       "    }\n",
       "\n",
       "    .dataframe tbody tr th {\n",
       "        vertical-align: top;\n",
       "    }\n",
       "\n",
       "    .dataframe thead th {\n",
       "        text-align: right;\n",
       "    }\n",
       "</style>\n",
       "<table border=\"1\" class=\"dataframe\">\n",
       "  <thead>\n",
       "    <tr style=\"text-align: right;\">\n",
       "      <th></th>\n",
       "      <th>ID_PARCEL</th>\n",
       "      <th>geometry</th>\n",
       "    </tr>\n",
       "  </thead>\n",
       "  <tbody>\n",
       "    <tr>\n",
       "      <th>0</th>\n",
       "      <td>123563</td>\n",
       "      <td>MULTIPOLYGON (((3.33896 49.84122, 3.33948 49.8...</td>\n",
       "    </tr>\n",
       "    <tr>\n",
       "      <th>1</th>\n",
       "      <td>5527076</td>\n",
       "      <td>MULTIPOLYGON (((-1.44483 49.61280, -1.44467 49...</td>\n",
       "    </tr>\n",
       "    <tr>\n",
       "      <th>2</th>\n",
       "      <td>11479241</td>\n",
       "      <td>MULTIPOLYGON (((2.87821 46.53674, 2.87820 46.5...</td>\n",
       "    </tr>\n",
       "    <tr>\n",
       "      <th>3</th>\n",
       "      <td>12928442</td>\n",
       "      <td>MULTIPOLYGON (((-0.19026 48.28723, -0.19025 48...</td>\n",
       "    </tr>\n",
       "    <tr>\n",
       "      <th>4</th>\n",
       "      <td>318389</td>\n",
       "      <td>MULTIPOLYGON (((5.72084 44.03576, 5.72081 44.0...</td>\n",
       "    </tr>\n",
       "  </tbody>\n",
       "</table>\n",
       "</div>"
      ],
      "text/plain": [
       "  ID_PARCEL                                           geometry\n",
       "0    123563  MULTIPOLYGON (((3.33896 49.84122, 3.33948 49.8...\n",
       "1   5527076  MULTIPOLYGON (((-1.44483 49.61280, -1.44467 49...\n",
       "2  11479241  MULTIPOLYGON (((2.87821 46.53674, 2.87820 46.5...\n",
       "3  12928442  MULTIPOLYGON (((-0.19026 48.28723, -0.19025 48...\n",
       "4    318389  MULTIPOLYGON (((5.72084 44.03576, 5.72081 44.0..."
      ]
     },
     "execution_count": 29,
     "metadata": {},
     "output_type": "execute_result"
    }
   ],
   "source": [
    "_arrow_to_geopandas(pyarrow_table, parquet_file.metadata.metadata).head()"
   ]
  }
 ],
 "metadata": {
  "kernelspec": {
   "display_name": "Python 3",
   "language": "python",
   "name": "python3"
  },
  "language_info": {
   "codemirror_mode": {
    "name": "ipython",
    "version": 3
   },
   "file_extension": ".py",
   "mimetype": "text/x-python",
   "name": "python",
   "nbconvert_exporter": "python",
   "pygments_lexer": "ipython3",
   "version": "3.11.4"
  },
  "orig_nbformat": 4
 },
 "nbformat": 4,
 "nbformat_minor": 2
}
