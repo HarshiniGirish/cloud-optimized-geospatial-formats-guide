{
 "cells": [
  {
   "cell_type": "markdown",
   "metadata": {},
   "source": [
    "# FlatGeobuf example\n",
    "\n",
    "This notebook will give an overview of how to read and write FlatGeobuf files with GeoPandas, putting an emphasis on cloud-native operations where possible."
   ]
  },
  {
   "cell_type": "markdown",
   "metadata": {},
   "source": [
    "The primary way to interact with FlatGeobuf in Python is via bindings to GDAL, as there is no pure-Python implementation of FlatGeobuf.\n",
    "\n",
    "There are two different Python libraries for interacting between Python and GDAL's vector support: `fiona` and `pyogrio`. Both of these are integrated into [`geopandas.read_file`](https://geopandas.org/en/stable/docs/reference/api/geopandas.read_file.html) via the `engine` keyword, but `pyogrio` is much faster. Set `engine=\"pyogrio\"` when using `read_file` or [`GeoDataFrame.to_file`](https://geopandas.org/en/stable/docs/reference/api/geopandas.GeoDataFrame.to_file.html) to speed up reading and writing significantly. We also suggest passing `use_arrow=True` when reading for a slight extra speedup (this is not supported when writing).\n",
    "\n",
    "::: {.callout-note}\n",
    "\n",
    "[`fiona`](https://github.com/Toblerity/Fiona) is the default engine for `geopandas.read_file`. It provides full-featured bindings to GDAL but does not implement _vectorized_ operations. [Vectorization](https://wesmckinney.com/book/numpy-basics#ndarray_binops) refers to operating on whole arrays of data at once rather than operating on individual values using a Python for loop. `fiona`'s non-vectorized approach means that each row of the source file is read individually with Python, and a Python for loop. In contrast, [`pyogrio`](https://github.com/geopandas/pyogrio)'s vectorized implementation reads all rows in C before passing the data to Python, allowing it to achieve vast speedups (up to 40x) over `fiona`.\n",
    "\n",
    "You can opt in to using `pyogrio` with `geopandas.read_file` by passing `engine=\"pyogrio\"`.\n",
    "\n",
    "Additionally, if you're using GDAL version 3.6 or higher (usually the case when using pyogrio), you can pass `use_arrow=True` to `geopandas.read_file` to use `pyogrio`'s support for [GDAL's RFC 86](https://gdal.org/development/rfc/rfc86_column_oriented_api.html), which speeds up data reading even more.\n",
    "\n",
    ":::"
   ]
  },
  {
   "cell_type": "code",
   "execution_count": 1,
   "metadata": {},
   "outputs": [],
   "source": [
    "from tempfile import TemporaryDirectory\n",
    "from urllib.request import urlretrieve\n",
    "\n",
    "import geopandas as gpd\n",
    "import pyogrio"
   ]
  },
  {
   "cell_type": "markdown",
   "metadata": {},
   "source": [
    "## Reading from local disk\n",
    "\n",
    "First we'll cover reading FlatGeobuf from local disk storage. As a first example, we'll use the US counties FlatGeobuf data from [this example](https://observablehq.com/@bjornharrtell/streaming-flatgeobuf). This file is only 13 MB in size, which we'll download to cover simple loading from disk."
   ]
  },
  {
   "cell_type": "code",
   "execution_count": 12,
   "metadata": {},
   "outputs": [],
   "source": [
    "# Create a temporary directory in which to save the file\n",
    "tmpdir = TemporaryDirectory()\n",
    "\n",
    "# URL to download\n",
    "url = \"https://flatgeobuf.org/test/data/UScounties.fgb\"\n",
    "\n",
    "# Download, saving the output path\n",
    "local_fgb_path, _ = urlretrieve(url, f\"{tmpdir.name}/countries.fgb\")"
   ]
  },
  {
   "cell_type": "markdown",
   "metadata": {},
   "source": [
    "In each of the cases below, we use `geopandas.read_file` to read the file into a `GeoDataFrame`.\n",
    "\n",
    "First we'll show that reading this file with `engine=\"fiona\"` (the default) is slower. Taking an extra 500 milliseconds might not seem like a lot, but this file contains only 3,000 rows, so this difference gets magnified with larger files."
   ]
  },
  {
   "cell_type": "code",
   "execution_count": 20,
   "metadata": {},
   "outputs": [
    {
     "name": "stdout",
     "output_type": "stream",
     "text": [
      "518 ms ± 6.57 ms per loop (mean ± std. dev. of 7 runs, 1 loop each)\n"
     ]
    }
   ],
   "source": [
    "%timeit gdf = gpd.read_file(local_fgb_path, engine=\"fiona\")"
   ]
  },
  {
   "cell_type": "markdown",
   "metadata": {},
   "source": [
    "Passing `engine=\"pyogrio\"` speeds up loading by 18x here!"
   ]
  },
  {
   "cell_type": "code",
   "execution_count": 21,
   "metadata": {},
   "outputs": [
    {
     "name": "stdout",
     "output_type": "stream",
     "text": [
      "28.9 ms ± 468 µs per loop (mean ± std. dev. of 7 runs, 10 loops each)\n"
     ]
    }
   ],
   "source": [
    "%timeit gdf = gpd.read_file(local_fgb_path, engine=\"pyogrio\")"
   ]
  },
  {
   "cell_type": "markdown",
   "metadata": {},
   "source": [
    "Using `use_arrow=True` often makes loading slightly faster again! We're now 21x faster than using fiona."
   ]
  },
  {
   "cell_type": "code",
   "execution_count": 19,
   "metadata": {},
   "outputs": [
    {
     "name": "stdout",
     "output_type": "stream",
     "text": [
      "24 ms ± 351 µs per loop (mean ± std. dev. of 7 runs, 10 loops each)\n"
     ]
    }
   ],
   "source": [
    "%timeit gdf = gpd.read_file(local_fgb_path, engine=\"pyogrio\", use_arrow=True)"
   ]
  },
  {
   "cell_type": "markdown",
   "metadata": {},
   "source": [
    "## Writing to local disk\n",
    "\n",
    "Similarly, we can use `GeoDataFrame.to_file` to write to a local FlatGeobuf file. As expected, writing can be much faster if you pass `engine=\"pyogrio\"`."
   ]
  },
  {
   "cell_type": "code",
   "execution_count": 31,
   "metadata": {},
   "outputs": [
    {
     "name": "stdout",
     "output_type": "stream",
     "text": [
      "CPU times: user 354 ms, sys: 32 ms, total: 386 ms\n",
      "Wall time: 394 ms\n"
     ]
    }
   ],
   "source": [
    "%time gdf.to_file(f\"{tmpdir.name}/out_fiona.fgb\")"
   ]
  },
  {
   "cell_type": "code",
   "execution_count": 32,
   "metadata": {},
   "outputs": [
    {
     "name": "stdout",
     "output_type": "stream",
     "text": [
      "CPU times: user 61 ms, sys: 23.5 ms, total: 84.5 ms\n",
      "Wall time: 94 ms\n"
     ]
    }
   ],
   "source": [
    "%time gdf.to_file(f\"{tmpdir.name}/out_pyogrio.fgb\", engine=\"pyogrio\")"
   ]
  },
  {
   "cell_type": "markdown",
   "metadata": {},
   "source": [
    "## Reading from the cloud\n",
    "\n",
    "Knowing how to read and write local files is important, but given that FlatGeobuf is a cloud-optimized format, it's important to be able to read from cloud-hosted files as well.\n",
    "\n",
    "For this example, we'll use the EuroCrops data hosted on Source Cooperative because it has versions of the same data in both FlatGeobuf and GeoParquet format. Hopefully using the same dataset for both the FlatGeobuf and GeoParquet example notebooks will be helpful."
   ]
  },
  {
   "cell_type": "code",
   "execution_count": 5,
   "metadata": {},
   "outputs": [],
   "source": [
    "url = \"https://data.source.coop/cholmes/eurocrops/unprojected/flatgeobuf/FR_2018_EC21.fgb\""
   ]
  },
  {
   "cell_type": "markdown",
   "metadata": {},
   "source": [
    "Usually when reading from the cloud, you want to filter on some spatial extent. Pyogrio offers a `read_info` function to access many pieces of information about the file:"
   ]
  },
  {
   "cell_type": "code",
   "execution_count": 10,
   "metadata": {},
   "outputs": [
    {
     "data": {
      "text/plain": [
       "{'crs': 'EPSG:4326',\n",
       " 'encoding': 'UTF-8',\n",
       " 'fields': array(['ID_PARCEL', 'SURF_PARC', 'CODE_CULTU', 'CODE_GROUP', 'CULTURE_D1',\n",
       "        'CULTURE_D2', 'EC_org_n', 'EC_trans_n', 'EC_hcat_n', 'EC_hcat_c'],\n",
       "       dtype=object),\n",
       " 'dtypes': array(['object', 'float64', 'object', 'object', 'object', 'object',\n",
       "        'object', 'object', 'object', 'object'], dtype=object),\n",
       " 'geometry_type': 'MultiPolygon',\n",
       " 'features': 9517874,\n",
       " 'driver': 'FlatGeobuf',\n",
       " 'capabilities': {'random_read': 1,\n",
       "  'fast_set_next_by_index': 0,\n",
       "  'fast_spatial_filter': 1},\n",
       " 'layer_metadata': None,\n",
       " 'dataset_metadata': None}"
      ]
     },
     "execution_count": 10,
     "metadata": {},
     "output_type": "execute_result"
    }
   ],
   "source": [
    "pyogrio.read_info(url)"
   ]
  },
  {
   "cell_type": "markdown",
   "metadata": {},
   "source": [
    "::: {.callout-note}\n",
    "\n",
    "Sadly the output of `read_info` does [not yet include](https://github.com/geopandas/pyogrio/issues/274) the bounding box of the file, even though the FlatGeobuf file contains that information in the header. This may be a reason to consider externalizing metadata using [Spatio-Temporal Asset Catalog files](https://stacspec.org/en) (STAC) in the future. For now we'll hard-code a region around Valence in the south of France.\n",
    "\n",
    ":::"
   ]
  },
  {
   "cell_type": "code",
   "execution_count": 6,
   "metadata": {},
   "outputs": [],
   "source": [
    "# The order of bounds is\n",
    "# (min longitude, min latitude, max longitude, max latitude)\n",
    "bounds = (3.733296, 44.677061, 4.717124, 45.179431)"
   ]
  },
  {
   "cell_type": "markdown",
   "metadata": {},
   "source": [
    "We can fetch a dataframe containing only the records in these bounds by passing a `bbox` argument to `read_file`. Note that the Coordinate Reference System of this bounding box **must match** the CRS of the dataset. Here, we know from the output of `read_info` that the CRS of the dataset is EPSG:4326, so we can pass a longitude-latitude bounding box."
   ]
  },
  {
   "cell_type": "code",
   "execution_count": 7,
   "metadata": {},
   "outputs": [
    {
     "name": "stdout",
     "output_type": "stream",
     "text": [
      "CPU times: user 14.7 s, sys: 1.16 s, total: 15.9 s\n",
      "Wall time: 2min 12s\n"
     ]
    }
   ],
   "source": [
    "%time crops_gdf = gpd.read_file(url, bbox=bounds)"
   ]
  },
  {
   "cell_type": "markdown",
   "metadata": {},
   "source": [
    "Passing `engine=\"pyogrio\"` is only slightly faster, which may mean that most of the time is taken up in network requests, not in parsing the actual data into Python."
   ]
  },
  {
   "cell_type": "code",
   "execution_count": 9,
   "metadata": {},
   "outputs": [
    {
     "name": "stdout",
     "output_type": "stream",
     "text": [
      "CPU times: user 3.58 s, sys: 1.55 s, total: 5.12 s\n",
      "Wall time: 1min 59s\n"
     ]
    }
   ],
   "source": [
    "%time crops_gdf = gpd.read_file(url, bbox=bounds, engine=\"pyogrio\")"
   ]
  },
  {
   "cell_type": "markdown",
   "metadata": {},
   "source": [
    "This gives us a much smaller dataset of only 123,000 rows (down from 9.5 million rows in the original dataset)."
   ]
  },
  {
   "cell_type": "code",
   "execution_count": 11,
   "metadata": {},
   "outputs": [
    {
     "data": {
      "text/html": [
       "<div>\n",
       "<style scoped>\n",
       "    .dataframe tbody tr th:only-of-type {\n",
       "        vertical-align: middle;\n",
       "    }\n",
       "\n",
       "    .dataframe tbody tr th {\n",
       "        vertical-align: top;\n",
       "    }\n",
       "\n",
       "    .dataframe thead th {\n",
       "        text-align: right;\n",
       "    }\n",
       "</style>\n",
       "<table border=\"1\" class=\"dataframe\">\n",
       "  <thead>\n",
       "    <tr style=\"text-align: right;\">\n",
       "      <th></th>\n",
       "      <th>ID_PARCEL</th>\n",
       "      <th>SURF_PARC</th>\n",
       "      <th>CODE_CULTU</th>\n",
       "      <th>CODE_GROUP</th>\n",
       "      <th>CULTURE_D1</th>\n",
       "      <th>CULTURE_D2</th>\n",
       "      <th>EC_org_n</th>\n",
       "      <th>EC_trans_n</th>\n",
       "      <th>EC_hcat_n</th>\n",
       "      <th>EC_hcat_c</th>\n",
       "      <th>geometry</th>\n",
       "    </tr>\n",
       "  </thead>\n",
       "  <tbody>\n",
       "    <tr>\n",
       "      <th>0</th>\n",
       "      <td>1291862</td>\n",
       "      <td>4.79</td>\n",
       "      <td>PTR</td>\n",
       "      <td>19</td>\n",
       "      <td>None</td>\n",
       "      <td>None</td>\n",
       "      <td>Autre prairie temporaire de 5 ans ou moins</td>\n",
       "      <td>Other temporary grassland 5 years or less</td>\n",
       "      <td>temporary_grass</td>\n",
       "      <td>3301090100</td>\n",
       "      <td>MULTIPOLYGON (((3.18191 45.07997, 3.18192 45.0...</td>\n",
       "    </tr>\n",
       "    <tr>\n",
       "      <th>1</th>\n",
       "      <td>466911</td>\n",
       "      <td>2.88</td>\n",
       "      <td>LU8</td>\n",
       "      <td>16</td>\n",
       "      <td>None</td>\n",
       "      <td>None</td>\n",
       "      <td>Luzerne implantée pour la récolte 2018</td>\n",
       "      <td>Alfalfa planted for the 2018 harvest</td>\n",
       "      <td>alfalfa_lucerne</td>\n",
       "      <td>3301090301</td>\n",
       "      <td>MULTIPOLYGON (((4.71244 44.67436, 4.71288 44.6...</td>\n",
       "    </tr>\n",
       "    <tr>\n",
       "      <th>2</th>\n",
       "      <td>527813</td>\n",
       "      <td>0.15</td>\n",
       "      <td>SNE</td>\n",
       "      <td>28</td>\n",
       "      <td>None</td>\n",
       "      <td>None</td>\n",
       "      <td>Surface agricole temporairement non exploitée</td>\n",
       "      <td>Temporarily unused agricultural area</td>\n",
       "      <td>unmaintained</td>\n",
       "      <td>3308000000</td>\n",
       "      <td>MULTIPOLYGON (((4.71242 44.67437, 4.71247 44.6...</td>\n",
       "    </tr>\n",
       "    <tr>\n",
       "      <th>3</th>\n",
       "      <td>465635</td>\n",
       "      <td>2.08</td>\n",
       "      <td>ORH</td>\n",
       "      <td>3</td>\n",
       "      <td>None</td>\n",
       "      <td>None</td>\n",
       "      <td>Orge d'hiver</td>\n",
       "      <td>Winter barley</td>\n",
       "      <td>winter_barley</td>\n",
       "      <td>3301010401</td>\n",
       "      <td>MULTIPOLYGON (((4.71240 44.67440, 4.71151 44.6...</td>\n",
       "    </tr>\n",
       "    <tr>\n",
       "      <th>4</th>\n",
       "      <td>465636</td>\n",
       "      <td>0.76</td>\n",
       "      <td>PPH</td>\n",
       "      <td>18</td>\n",
       "      <td>None</td>\n",
       "      <td>None</td>\n",
       "      <td>Prairie permanente - herbe prédominante (resso...</td>\n",
       "      <td>Permanent pasture - predominantly grass (woody...</td>\n",
       "      <td>pasture_meadow_grassland_grass</td>\n",
       "      <td>3302000000</td>\n",
       "      <td>MULTIPOLYGON (((4.71240 44.67440, 4.71247 44.6...</td>\n",
       "    </tr>\n",
       "  </tbody>\n",
       "</table>\n",
       "</div>"
      ],
      "text/plain": [
       "  ID_PARCEL  SURF_PARC CODE_CULTU CODE_GROUP CULTURE_D1 CULTURE_D2  \\\n",
       "0   1291862       4.79        PTR         19       None       None   \n",
       "1    466911       2.88        LU8         16       None       None   \n",
       "2    527813       0.15        SNE         28       None       None   \n",
       "3    465635       2.08        ORH          3       None       None   \n",
       "4    465636       0.76        PPH         18       None       None   \n",
       "\n",
       "                                            EC_org_n  \\\n",
       "0         Autre prairie temporaire de 5 ans ou moins   \n",
       "1             Luzerne implantée pour la récolte 2018   \n",
       "2      Surface agricole temporairement non exploitée   \n",
       "3                                       Orge d'hiver   \n",
       "4  Prairie permanente - herbe prédominante (resso...   \n",
       "\n",
       "                                          EC_trans_n  \\\n",
       "0          Other temporary grassland 5 years or less   \n",
       "1               Alfalfa planted for the 2018 harvest   \n",
       "2               Temporarily unused agricultural area   \n",
       "3                                      Winter barley   \n",
       "4  Permanent pasture - predominantly grass (woody...   \n",
       "\n",
       "                        EC_hcat_n   EC_hcat_c  \\\n",
       "0                 temporary_grass  3301090100   \n",
       "1                 alfalfa_lucerne  3301090301   \n",
       "2                    unmaintained  3308000000   \n",
       "3                   winter_barley  3301010401   \n",
       "4  pasture_meadow_grassland_grass  3302000000   \n",
       "\n",
       "                                            geometry  \n",
       "0  MULTIPOLYGON (((3.18191 45.07997, 3.18192 45.0...  \n",
       "1  MULTIPOLYGON (((4.71244 44.67436, 4.71288 44.6...  \n",
       "2  MULTIPOLYGON (((4.71242 44.67437, 4.71247 44.6...  \n",
       "3  MULTIPOLYGON (((4.71240 44.67440, 4.71151 44.6...  \n",
       "4  MULTIPOLYGON (((4.71240 44.67440, 4.71247 44.6...  "
      ]
     },
     "execution_count": 11,
     "metadata": {},
     "output_type": "execute_result"
    }
   ],
   "source": [
    "crops_gdf.head()"
   ]
  },
  {
   "cell_type": "code",
   "execution_count": 12,
   "metadata": {},
   "outputs": [
    {
     "data": {
      "text/plain": [
       "(123537, 11)"
      ]
     },
     "execution_count": 12,
     "metadata": {},
     "output_type": "execute_result"
    }
   ],
   "source": [
    "crops_gdf.shape"
   ]
  },
  {
   "cell_type": "markdown",
   "metadata": {},
   "source": [
    "There are other useful keyword arguments to `read_file`. Since we're using the `pyogrio` engine, we can pass specific column names into `read_file`, and only those columns will be parsed. In the case of FlatGeobuf, this doesn't save us much time, because the same amount of data needs to be fetched."
   ]
  },
  {
   "cell_type": "code",
   "execution_count": 13,
   "metadata": {},
   "outputs": [
    {
     "name": "stdout",
     "output_type": "stream",
     "text": [
      "CPU times: user 3.55 s, sys: 1.54 s, total: 5.09 s\n",
      "Wall time: 2min 30s\n"
     ]
    }
   ],
   "source": [
    "column_names = [\"ID_PARCEL\", \"SURF_PARC\", \"CODE_CULTU\", \"geometry\"]\n",
    "%time crops_gdf = gpd.read_file(url, bbox=bounds, columns=column_names, engine=\"pyogrio\")"
   ]
  },
  {
   "cell_type": "code",
   "execution_count": 14,
   "metadata": {},
   "outputs": [
    {
     "data": {
      "text/html": [
       "<div>\n",
       "<style scoped>\n",
       "    .dataframe tbody tr th:only-of-type {\n",
       "        vertical-align: middle;\n",
       "    }\n",
       "\n",
       "    .dataframe tbody tr th {\n",
       "        vertical-align: top;\n",
       "    }\n",
       "\n",
       "    .dataframe thead th {\n",
       "        text-align: right;\n",
       "    }\n",
       "</style>\n",
       "<table border=\"1\" class=\"dataframe\">\n",
       "  <thead>\n",
       "    <tr style=\"text-align: right;\">\n",
       "      <th></th>\n",
       "      <th>CODE_CULTU</th>\n",
       "      <th>ID_PARCEL</th>\n",
       "      <th>SURF_PARC</th>\n",
       "      <th>geometry</th>\n",
       "    </tr>\n",
       "  </thead>\n",
       "  <tbody>\n",
       "    <tr>\n",
       "      <th>0</th>\n",
       "      <td>PTR</td>\n",
       "      <td>1291862</td>\n",
       "      <td>4.79</td>\n",
       "      <td>MULTIPOLYGON (((3.18191 45.07997, 3.18192 45.0...</td>\n",
       "    </tr>\n",
       "    <tr>\n",
       "      <th>1</th>\n",
       "      <td>LU8</td>\n",
       "      <td>466911</td>\n",
       "      <td>2.88</td>\n",
       "      <td>MULTIPOLYGON (((4.71244 44.67436, 4.71288 44.6...</td>\n",
       "    </tr>\n",
       "    <tr>\n",
       "      <th>2</th>\n",
       "      <td>SNE</td>\n",
       "      <td>527813</td>\n",
       "      <td>0.15</td>\n",
       "      <td>MULTIPOLYGON (((4.71242 44.67437, 4.71247 44.6...</td>\n",
       "    </tr>\n",
       "    <tr>\n",
       "      <th>3</th>\n",
       "      <td>ORH</td>\n",
       "      <td>465635</td>\n",
       "      <td>2.08</td>\n",
       "      <td>MULTIPOLYGON (((4.71240 44.67440, 4.71151 44.6...</td>\n",
       "    </tr>\n",
       "    <tr>\n",
       "      <th>4</th>\n",
       "      <td>PPH</td>\n",
       "      <td>465636</td>\n",
       "      <td>0.76</td>\n",
       "      <td>MULTIPOLYGON (((4.71240 44.67440, 4.71247 44.6...</td>\n",
       "    </tr>\n",
       "  </tbody>\n",
       "</table>\n",
       "</div>"
      ],
      "text/plain": [
       "  CODE_CULTU ID_PARCEL  SURF_PARC  \\\n",
       "0        PTR   1291862       4.79   \n",
       "1        LU8    466911       2.88   \n",
       "2        SNE    527813       0.15   \n",
       "3        ORH    465635       2.08   \n",
       "4        PPH    465636       0.76   \n",
       "\n",
       "                                            geometry  \n",
       "0  MULTIPOLYGON (((3.18191 45.07997, 3.18192 45.0...  \n",
       "1  MULTIPOLYGON (((4.71244 44.67436, 4.71288 44.6...  \n",
       "2  MULTIPOLYGON (((4.71242 44.67437, 4.71247 44.6...  \n",
       "3  MULTIPOLYGON (((4.71240 44.67440, 4.71151 44.6...  \n",
       "4  MULTIPOLYGON (((4.71240 44.67440, 4.71247 44.6...  "
      ]
     },
     "execution_count": 14,
     "metadata": {},
     "output_type": "execute_result"
    }
   ],
   "source": [
    "crops_gdf.head()"
   ]
  },
  {
   "cell_type": "code",
   "execution_count": null,
   "metadata": {},
   "outputs": [],
   "source": []
  }
 ],
 "metadata": {
  "kernelspec": {
   "display_name": "Python 3",
   "language": "python",
   "name": "python3"
  },
  "language_info": {
   "codemirror_mode": {
    "name": "ipython",
    "version": 3
   },
   "file_extension": ".py",
   "mimetype": "text/x-python",
   "name": "python",
   "nbconvert_exporter": "python",
   "pygments_lexer": "ipython3",
   "version": "3.11.4"
  },
  "orig_nbformat": 4
 },
 "nbformat": 4,
 "nbformat_minor": 2
}
