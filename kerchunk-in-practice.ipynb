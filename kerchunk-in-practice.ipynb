{
 "cells": [
  {
   "cell_type": "markdown",
   "id": "0602f1aa-469f-40ba-9f0c-9a60be21e8fd",
   "metadata": {},
   "source": [
    "# Kerchunk in Practice\n",
    "\n",
    "## How to create a Kerchunk Store"
   ]
  },
  {
   "cell_type": "markdown",
   "id": "10db71eb-35b6-4c6a-b64f-44044a9f6108",
   "metadata": {},
   "source": [
    "## How to read a Kerchunk Store"
   ]
  },
  {
   "cell_type": "markdown",
   "id": "aa55f00f-bc88-4ad7-ace0-16c79a6bf564",
   "metadata": {},
   "source": [
    "## Examples of Existing Kerchunk Data"
   ]
  }
 ],
 "metadata": {
  "kernelspec": {
   "display_name": "Python 3 (ipykernel)",
   "language": "python",
   "name": "python3"
  },
  "language_info": {
   "codemirror_mode": {
    "name": "ipython",
    "version": 3
   },
   "file_extension": ".py",
   "mimetype": "text/x-python",
   "name": "python",
   "nbconvert_exporter": "python",
   "pygments_lexer": "ipython3",
   "version": "3.9.7"
  }
 },
 "nbformat": 4,
 "nbformat_minor": 5
}
