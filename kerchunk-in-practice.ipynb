{
 "cells": [
  {
   "cell_type": "markdown",
   "id": "0602f1aa-469f-40ba-9f0c-9a60be21e8fd",
   "metadata": {},
   "source": [
    "# Kerchunk in Practice\n",
    "\n",
    "In this notebook, we demonstrate how to create a kerchunk reference file for one and then multiple publicly available NetCDF files and how to open a kerchunk store with `xarray`.\n",
    "\n",
    "## How to create a Kerchunk Store\n",
    "\n",
    "We can use the publicly available [NEX GDDP CMIP6](https://www.nccs.nasa.gov/services/data-collections/land-based-products/nex-gddp-cmip6) dataset for this exercise. This dataset is provided by NASA and publicly available on AWS S3. You can browse that data in the [nex-gddp-cmip6 file browser](https://nex-gddp-cmip6.s3.us-west-2.amazonaws.com/index.html#NEX-GDDP-CMIP6/)."
   ]
  },
  {
   "cell_type": "code",
   "execution_count": 1,
   "id": "1767ba02-46c8-4fa3-95e9-fb48e93fe7be",
   "metadata": {},
   "outputs": [],
   "source": [
    "import fsspec\n",
    "import json\n",
    "from kerchunk.combine import MultiZarrToZarr\n",
    "from kerchunk.hdf import SingleHdf5ToZarr\n",
    "import os\n",
    "from tempfile import TemporaryDirectory\n",
    "import ujson\n",
    "import xarray as xr"
   ]
  },
  {
   "cell_type": "code",
   "execution_count": 2,
   "id": "1f8fd3da-165d-489a-9e5c-f1fe2df1fe6e",
   "metadata": {},
   "outputs": [
    {
     "name": "stdout",
     "output_type": "stream",
     "text": [
      "65 discovered from s3://nex-gddp-cmip6/NEX-GDDP-CMIP6/ACCESS-CM2/historical/r1i1p1*/tasmax/*\n"
     ]
    }
   ],
   "source": [
    "# Since there are a number of CMIP6 models and variables to chose from, we make those selections variables\n",
    "model = \"ACCESS-CM2\"\n",
    "variable = \"tasmax\"\n",
    "\n",
    "# Note we are only reading historical data here, but model data is available for SSPs (Shared Socio-economic Pathways) as well.\n",
    "s3_path = f\"s3://nex-gddp-cmip6/NEX-GDDP-CMIP6/{model}/historical/r1i1p1*/{variable}/*\"\n",
    "\n",
    "# Initiate fsspec filesystem for reading\n",
    "fs_read = fsspec.filesystem(\"s3\", anon=True, skip_instance_cache=False)\n",
    "\n",
    "# Retrieve list of available data\n",
    "file_paths = fs_read.glob(s3_path)\n",
    "print(f\"{len(file_paths)} discovered from {s3_path}\")"
   ]
  },
  {
   "cell_type": "markdown",
   "id": "d485ba1b-66db-4238-9f87-8914fee7723d",
   "metadata": {},
   "source": [
    "To start, we are just going to create a single reference file for a single NetCDF file."
   ]
  },
  {
   "cell_type": "code",
   "execution_count": 3,
   "id": "f5ca57fd-189b-4347-9ef8-f0efd1c77020",
   "metadata": {},
   "outputs": [
    {
     "data": {
      "text/plain": [
       "'nex-gddp-cmip6/NEX-GDDP-CMIP6/ACCESS-CM2/historical/r1i1p1f1/tasmax/tasmax_day_ACCESS-CM2_historical_r1i1p1f1_gn_1950.nc'"
      ]
     },
     "execution_count": 3,
     "metadata": {},
     "output_type": "execute_result"
    }
   ],
   "source": [
    "netcdf_file = file_paths[0]\n",
    "netcdf_file"
   ]
  },
  {
   "cell_type": "code",
   "execution_count": 4,
   "id": "51ded9a8-facc-4b09-80df-aa7ab26d62b9",
   "metadata": {},
   "outputs": [],
   "source": [
    "# Define a function to generate the kerchunk file so we can use it again for other files\n",
    "def generate_json_reference(input_file, temp_dir: str):\n",
    "    \"\"\"\n",
    "    Use Kerchunk's `SingleHdf5ToZarr` method to create a `Kerchunk` index from a NetCDF file.\n",
    "    \"\"\"\n",
    "    source_mode = dict(mode=\"rb\", anon=True, default_fill_cache=False, default_cache_type=\"first\")\n",
    "    with fs_read.open(input_file, **source_mode) as infile:\n",
    "        print(f\"Running kerchunk generation for {input_file}...\")\n",
    "        h5chunks = SingleHdf5ToZarr(infile, input_file, inline_threshold=300)\n",
    "        fname = input_file.split(\"/\")[-1].strip(\".nc\")\n",
    "        outf = os.path.join(temp_dir, f\"{fname}.json\")\n",
    "        with open(outf, \"wb\") as f:\n",
    "            f.write(ujson.dumps(h5chunks.translate()).encode())\n",
    "        return outf"
   ]
  },
  {
   "cell_type": "code",
   "execution_count": 5,
   "id": "d7ad66df-f981-49c4-9af8-ff7150371366",
   "metadata": {},
   "outputs": [
    {
     "name": "stdout",
     "output_type": "stream",
     "text": [
      "Writing single file references to /var/folders/jh/_03qbqf130l8hjh8rpc6f4_c0000gn/T/tmp1076qeep\n"
     ]
    }
   ],
   "source": [
    "# Create a temporary directory to store the .json reference files.\n",
    "# Alternately, you could write these to cloud storage.\n",
    "td = TemporaryDirectory()\n",
    "temp_dir = td.name\n",
    "print(f\"Writing single file references to {temp_dir}\")"
   ]
  },
  {
   "cell_type": "code",
   "execution_count": 6,
   "id": "aa9059ee-97bf-4194-a5bc-d8a70f60e659",
   "metadata": {},
   "outputs": [
    {
     "name": "stdout",
     "output_type": "stream",
     "text": [
      "Running kerchunk generation for nex-gddp-cmip6/NEX-GDDP-CMIP6/ACCESS-CM2/historical/r1i1p1f1/tasmax/tasmax_day_ACCESS-CM2_historical_r1i1p1f1_gn_1950.nc...\n"
     ]
    }
   ],
   "source": [
    "single_kerchunk_reference = generate_json_reference(netcdf_file, temp_dir)"
   ]
  },
  {
   "cell_type": "code",
   "execution_count": 7,
   "id": "ba98f1c7-bdb5-49c8-a260-1c524a78fb58",
   "metadata": {},
   "outputs": [
    {
     "data": {
      "text/plain": [
       "dict"
      ]
     },
     "execution_count": 7,
     "metadata": {},
     "output_type": "execute_result"
    }
   ],
   "source": [
    "import json\n",
    "from pprint import pprint\n",
    "\n",
    "# Read and load the JSON file\n",
    "with open(single_kerchunk_reference, 'r') as file:\n",
    "    data = json.load(file)\n",
    "\n",
    "# Print the first 5 items\n",
    "# keys = data['refs'].slice('.zattrs', '.zgroup'\n",
    "# pprint(data['refs'])\n",
    "keys_to_select = ['.zgroup', '.zarray', 'lat/.zarray']\n",
    "\n",
    "selected_data = {k: v for k, v in data['refs'].items() if k in keys_to_select}\n",
    "type(selected_data)"
   ]
  },
  {
   "cell_type": "markdown",
   "id": "72441395-33f4-4360-8588-0fed4abb5e08",
   "metadata": {},
   "source": [
    "Check that it worked."
   ]
  },
  {
   "cell_type": "code",
   "execution_count": 9,
   "id": "0b090af2-e154-4c8a-987e-23d845de2076",
   "metadata": {},
   "outputs": [],
   "source": [
    "# open dataset as zarr object using fsspec reference file system and Xarray\n",
    "fs_single = fsspec.filesystem(\n",
    "    \"reference\", fo=single_kerchunk_reference, remote_protocol=\"https\"\n",
    ")\n",
    "single_map = fs_single.get_mapper(\"\")"
   ]
  },
  {
   "cell_type": "code",
   "execution_count": 10,
   "id": "827a47a5-3037-44d7-a9de-1454eaae77e6",
   "metadata": {},
   "outputs": [
    {
     "data": {
      "text/html": [
       "<div><svg style=\"position: absolute; width: 0; height: 0; overflow: hidden\">\n",
       "<defs>\n",
       "<symbol id=\"icon-database\" viewBox=\"0 0 32 32\">\n",
       "<path d=\"M16 0c-8.837 0-16 2.239-16 5v4c0 2.761 7.163 5 16 5s16-2.239 16-5v-4c0-2.761-7.163-5-16-5z\"></path>\n",
       "<path d=\"M16 17c-8.837 0-16-2.239-16-5v6c0 2.761 7.163 5 16 5s16-2.239 16-5v-6c0 2.761-7.163 5-16 5z\"></path>\n",
       "<path d=\"M16 26c-8.837 0-16-2.239-16-5v6c0 2.761 7.163 5 16 5s16-2.239 16-5v-6c0 2.761-7.163 5-16 5z\"></path>\n",
       "</symbol>\n",
       "<symbol id=\"icon-file-text2\" viewBox=\"0 0 32 32\">\n",
       "<path d=\"M28.681 7.159c-0.694-0.947-1.662-2.053-2.724-3.116s-2.169-2.030-3.116-2.724c-1.612-1.182-2.393-1.319-2.841-1.319h-15.5c-1.378 0-2.5 1.121-2.5 2.5v27c0 1.378 1.122 2.5 2.5 2.5h23c1.378 0 2.5-1.122 2.5-2.5v-19.5c0-0.448-0.137-1.23-1.319-2.841zM24.543 5.457c0.959 0.959 1.712 1.825 2.268 2.543h-4.811v-4.811c0.718 0.556 1.584 1.309 2.543 2.268zM28 29.5c0 0.271-0.229 0.5-0.5 0.5h-23c-0.271 0-0.5-0.229-0.5-0.5v-27c0-0.271 0.229-0.5 0.5-0.5 0 0 15.499-0 15.5 0v7c0 0.552 0.448 1 1 1h7v19.5z\"></path>\n",
       "<path d=\"M23 26h-14c-0.552 0-1-0.448-1-1s0.448-1 1-1h14c0.552 0 1 0.448 1 1s-0.448 1-1 1z\"></path>\n",
       "<path d=\"M23 22h-14c-0.552 0-1-0.448-1-1s0.448-1 1-1h14c0.552 0 1 0.448 1 1s-0.448 1-1 1z\"></path>\n",
       "<path d=\"M23 18h-14c-0.552 0-1-0.448-1-1s0.448-1 1-1h14c0.552 0 1 0.448 1 1s-0.448 1-1 1z\"></path>\n",
       "</symbol>\n",
       "</defs>\n",
       "</svg>\n",
       "<style>/* CSS stylesheet for displaying xarray objects in jupyterlab.\n",
       " *\n",
       " */\n",
       "\n",
       ":root {\n",
       "  --xr-font-color0: var(--jp-content-font-color0, rgba(0, 0, 0, 1));\n",
       "  --xr-font-color2: var(--jp-content-font-color2, rgba(0, 0, 0, 0.54));\n",
       "  --xr-font-color3: var(--jp-content-font-color3, rgba(0, 0, 0, 0.38));\n",
       "  --xr-border-color: var(--jp-border-color2, #e0e0e0);\n",
       "  --xr-disabled-color: var(--jp-layout-color3, #bdbdbd);\n",
       "  --xr-background-color: var(--jp-layout-color0, white);\n",
       "  --xr-background-color-row-even: var(--jp-layout-color1, white);\n",
       "  --xr-background-color-row-odd: var(--jp-layout-color2, #eeeeee);\n",
       "}\n",
       "\n",
       "html[theme=dark],\n",
       "body.vscode-dark {\n",
       "  --xr-font-color0: rgba(255, 255, 255, 1);\n",
       "  --xr-font-color2: rgba(255, 255, 255, 0.54);\n",
       "  --xr-font-color3: rgba(255, 255, 255, 0.38);\n",
       "  --xr-border-color: #1F1F1F;\n",
       "  --xr-disabled-color: #515151;\n",
       "  --xr-background-color: #111111;\n",
       "  --xr-background-color-row-even: #111111;\n",
       "  --xr-background-color-row-odd: #313131;\n",
       "}\n",
       "\n",
       ".xr-wrap {\n",
       "  display: block;\n",
       "  min-width: 300px;\n",
       "  max-width: 700px;\n",
       "}\n",
       "\n",
       ".xr-text-repr-fallback {\n",
       "  /* fallback to plain text repr when CSS is not injected (untrusted notebook) */\n",
       "  display: none;\n",
       "}\n",
       "\n",
       ".xr-header {\n",
       "  padding-top: 6px;\n",
       "  padding-bottom: 6px;\n",
       "  margin-bottom: 4px;\n",
       "  border-bottom: solid 1px var(--xr-border-color);\n",
       "}\n",
       "\n",
       ".xr-header > div,\n",
       ".xr-header > ul {\n",
       "  display: inline;\n",
       "  margin-top: 0;\n",
       "  margin-bottom: 0;\n",
       "}\n",
       "\n",
       ".xr-obj-type,\n",
       ".xr-array-name {\n",
       "  margin-left: 2px;\n",
       "  margin-right: 10px;\n",
       "}\n",
       "\n",
       ".xr-obj-type {\n",
       "  color: var(--xr-font-color2);\n",
       "}\n",
       "\n",
       ".xr-sections {\n",
       "  padding-left: 0 !important;\n",
       "  display: grid;\n",
       "  grid-template-columns: 150px auto auto 1fr 20px 20px;\n",
       "}\n",
       "\n",
       ".xr-section-item {\n",
       "  display: contents;\n",
       "}\n",
       "\n",
       ".xr-section-item input {\n",
       "  display: none;\n",
       "}\n",
       "\n",
       ".xr-section-item input + label {\n",
       "  color: var(--xr-disabled-color);\n",
       "}\n",
       "\n",
       ".xr-section-item input:enabled + label {\n",
       "  cursor: pointer;\n",
       "  color: var(--xr-font-color2);\n",
       "}\n",
       "\n",
       ".xr-section-item input:enabled + label:hover {\n",
       "  color: var(--xr-font-color0);\n",
       "}\n",
       "\n",
       ".xr-section-summary {\n",
       "  grid-column: 1;\n",
       "  color: var(--xr-font-color2);\n",
       "  font-weight: 500;\n",
       "}\n",
       "\n",
       ".xr-section-summary > span {\n",
       "  display: inline-block;\n",
       "  padding-left: 0.5em;\n",
       "}\n",
       "\n",
       ".xr-section-summary-in:disabled + label {\n",
       "  color: var(--xr-font-color2);\n",
       "}\n",
       "\n",
       ".xr-section-summary-in + label:before {\n",
       "  display: inline-block;\n",
       "  content: '►';\n",
       "  font-size: 11px;\n",
       "  width: 15px;\n",
       "  text-align: center;\n",
       "}\n",
       "\n",
       ".xr-section-summary-in:disabled + label:before {\n",
       "  color: var(--xr-disabled-color);\n",
       "}\n",
       "\n",
       ".xr-section-summary-in:checked + label:before {\n",
       "  content: '▼';\n",
       "}\n",
       "\n",
       ".xr-section-summary-in:checked + label > span {\n",
       "  display: none;\n",
       "}\n",
       "\n",
       ".xr-section-summary,\n",
       ".xr-section-inline-details {\n",
       "  padding-top: 4px;\n",
       "  padding-bottom: 4px;\n",
       "}\n",
       "\n",
       ".xr-section-inline-details {\n",
       "  grid-column: 2 / -1;\n",
       "}\n",
       "\n",
       ".xr-section-details {\n",
       "  display: none;\n",
       "  grid-column: 1 / -1;\n",
       "  margin-bottom: 5px;\n",
       "}\n",
       "\n",
       ".xr-section-summary-in:checked ~ .xr-section-details {\n",
       "  display: contents;\n",
       "}\n",
       "\n",
       ".xr-array-wrap {\n",
       "  grid-column: 1 / -1;\n",
       "  display: grid;\n",
       "  grid-template-columns: 20px auto;\n",
       "}\n",
       "\n",
       ".xr-array-wrap > label {\n",
       "  grid-column: 1;\n",
       "  vertical-align: top;\n",
       "}\n",
       "\n",
       ".xr-preview {\n",
       "  color: var(--xr-font-color3);\n",
       "}\n",
       "\n",
       ".xr-array-preview,\n",
       ".xr-array-data {\n",
       "  padding: 0 5px !important;\n",
       "  grid-column: 2;\n",
       "}\n",
       "\n",
       ".xr-array-data,\n",
       ".xr-array-in:checked ~ .xr-array-preview {\n",
       "  display: none;\n",
       "}\n",
       "\n",
       ".xr-array-in:checked ~ .xr-array-data,\n",
       ".xr-array-preview {\n",
       "  display: inline-block;\n",
       "}\n",
       "\n",
       ".xr-dim-list {\n",
       "  display: inline-block !important;\n",
       "  list-style: none;\n",
       "  padding: 0 !important;\n",
       "  margin: 0;\n",
       "}\n",
       "\n",
       ".xr-dim-list li {\n",
       "  display: inline-block;\n",
       "  padding: 0;\n",
       "  margin: 0;\n",
       "}\n",
       "\n",
       ".xr-dim-list:before {\n",
       "  content: '(';\n",
       "}\n",
       "\n",
       ".xr-dim-list:after {\n",
       "  content: ')';\n",
       "}\n",
       "\n",
       ".xr-dim-list li:not(:last-child):after {\n",
       "  content: ',';\n",
       "  padding-right: 5px;\n",
       "}\n",
       "\n",
       ".xr-has-index {\n",
       "  font-weight: bold;\n",
       "}\n",
       "\n",
       ".xr-var-list,\n",
       ".xr-var-item {\n",
       "  display: contents;\n",
       "}\n",
       "\n",
       ".xr-var-item > div,\n",
       ".xr-var-item label,\n",
       ".xr-var-item > .xr-var-name span {\n",
       "  background-color: var(--xr-background-color-row-even);\n",
       "  margin-bottom: 0;\n",
       "}\n",
       "\n",
       ".xr-var-item > .xr-var-name:hover span {\n",
       "  padding-right: 5px;\n",
       "}\n",
       "\n",
       ".xr-var-list > li:nth-child(odd) > div,\n",
       ".xr-var-list > li:nth-child(odd) > label,\n",
       ".xr-var-list > li:nth-child(odd) > .xr-var-name span {\n",
       "  background-color: var(--xr-background-color-row-odd);\n",
       "}\n",
       "\n",
       ".xr-var-name {\n",
       "  grid-column: 1;\n",
       "}\n",
       "\n",
       ".xr-var-dims {\n",
       "  grid-column: 2;\n",
       "}\n",
       "\n",
       ".xr-var-dtype {\n",
       "  grid-column: 3;\n",
       "  text-align: right;\n",
       "  color: var(--xr-font-color2);\n",
       "}\n",
       "\n",
       ".xr-var-preview {\n",
       "  grid-column: 4;\n",
       "}\n",
       "\n",
       ".xr-var-name,\n",
       ".xr-var-dims,\n",
       ".xr-var-dtype,\n",
       ".xr-preview,\n",
       ".xr-attrs dt {\n",
       "  white-space: nowrap;\n",
       "  overflow: hidden;\n",
       "  text-overflow: ellipsis;\n",
       "  padding-right: 10px;\n",
       "}\n",
       "\n",
       ".xr-var-name:hover,\n",
       ".xr-var-dims:hover,\n",
       ".xr-var-dtype:hover,\n",
       ".xr-attrs dt:hover {\n",
       "  overflow: visible;\n",
       "  width: auto;\n",
       "  z-index: 1;\n",
       "}\n",
       "\n",
       ".xr-var-attrs,\n",
       ".xr-var-data {\n",
       "  display: none;\n",
       "  background-color: var(--xr-background-color) !important;\n",
       "  padding-bottom: 5px !important;\n",
       "}\n",
       "\n",
       ".xr-var-attrs-in:checked ~ .xr-var-attrs,\n",
       ".xr-var-data-in:checked ~ .xr-var-data {\n",
       "  display: block;\n",
       "}\n",
       "\n",
       ".xr-var-data > table {\n",
       "  float: right;\n",
       "}\n",
       "\n",
       ".xr-var-name span,\n",
       ".xr-var-data,\n",
       ".xr-attrs {\n",
       "  padding-left: 25px !important;\n",
       "}\n",
       "\n",
       ".xr-attrs,\n",
       ".xr-var-attrs,\n",
       ".xr-var-data {\n",
       "  grid-column: 1 / -1;\n",
       "}\n",
       "\n",
       "dl.xr-attrs {\n",
       "  padding: 0;\n",
       "  margin: 0;\n",
       "  display: grid;\n",
       "  grid-template-columns: 125px auto;\n",
       "}\n",
       "\n",
       ".xr-attrs dt,\n",
       ".xr-attrs dd {\n",
       "  padding: 0;\n",
       "  margin: 0;\n",
       "  float: left;\n",
       "  padding-right: 10px;\n",
       "  width: auto;\n",
       "}\n",
       "\n",
       ".xr-attrs dt {\n",
       "  font-weight: normal;\n",
       "  grid-column: 1;\n",
       "}\n",
       "\n",
       ".xr-attrs dt:hover span {\n",
       "  display: inline-block;\n",
       "  background: var(--xr-background-color);\n",
       "  padding-right: 10px;\n",
       "}\n",
       "\n",
       ".xr-attrs dd {\n",
       "  grid-column: 2;\n",
       "  white-space: pre-wrap;\n",
       "  word-break: break-all;\n",
       "}\n",
       "\n",
       ".xr-icon-database,\n",
       ".xr-icon-file-text2 {\n",
       "  display: inline-block;\n",
       "  vertical-align: middle;\n",
       "  width: 1em;\n",
       "  height: 1.5em !important;\n",
       "  stroke-width: 0;\n",
       "  stroke: currentColor;\n",
       "  fill: currentColor;\n",
       "}\n",
       "</style><pre class='xr-text-repr-fallback'>&lt;xarray.Dataset&gt;\n",
       "Dimensions:  (lat: 600, lon: 1440, time: 365)\n",
       "Coordinates:\n",
       "  * lat      (lat) float64 0.0 1.235e-259 0.0 ... 4.673e+164 7.53e+252\n",
       "  * lon      (lon) float64 0.0 6.013e-154 0.0 ... 3.636e+228 8.7e+199 5.351e-80\n",
       "  * time     (time) datetime64[ns] 1950-01-01T12:00:00 ... 1950-12-31T12:00:00\n",
       "Data variables:\n",
       "    tasmax   (time, lat, lon) float32 ...\n",
       "Attributes: (12/22)\n",
       "    Conventions:           CF-1.7\n",
       "    activity:              NEX-GDDP-CMIP6\n",
       "    cmip6_institution_id:  CSIRO-ARCCSS\n",
       "    cmip6_license:         CC-BY-SA 4.0\n",
       "    cmip6_source_id:       ACCESS-CM2\n",
       "    contact:               Dr. Rama Nemani: rama.nemani@nasa.gov, Dr. Bridget...\n",
       "    ...                    ...\n",
       "    scenario:              historical\n",
       "    source:                BCSD\n",
       "    title:                 ACCESS-CM2, r1i1p1f1, historical, global downscale...\n",
       "    tracking_id:           f85d4c2e-48e4-484f-aad4-6a3f30a04326\n",
       "    variant_label:         r1i1p1f1\n",
       "    version:               1.0</pre><div class='xr-wrap' hidden><div class='xr-header'><div class='xr-obj-type'>xarray.Dataset</div></div><ul class='xr-sections'><li class='xr-section-item'><input id='section-d4bdfa81-d8bc-47b4-982f-fa8a324230e9' class='xr-section-summary-in' type='checkbox' disabled ><label for='section-d4bdfa81-d8bc-47b4-982f-fa8a324230e9' class='xr-section-summary'  title='Expand/collapse section'>Dimensions:</label><div class='xr-section-inline-details'><ul class='xr-dim-list'><li><span class='xr-has-index'>lat</span>: 600</li><li><span class='xr-has-index'>lon</span>: 1440</li><li><span class='xr-has-index'>time</span>: 365</li></ul></div><div class='xr-section-details'></div></li><li class='xr-section-item'><input id='section-49af393b-9a99-48fb-b1ee-457c7cbb84e8' class='xr-section-summary-in' type='checkbox'  checked><label for='section-49af393b-9a99-48fb-b1ee-457c7cbb84e8' class='xr-section-summary' >Coordinates: <span>(3)</span></label><div class='xr-section-inline-details'></div><div class='xr-section-details'><ul class='xr-var-list'><li class='xr-var-item'><div class='xr-var-name'><span class='xr-has-index'>lat</span></div><div class='xr-var-dims'>(lat)</div><div class='xr-var-dtype'>float64</div><div class='xr-var-preview xr-preview'>0.0 1.235e-259 ... 7.53e+252</div><input id='attrs-02554768-7d0b-4b59-8f1b-ab872012b619' class='xr-var-attrs-in' type='checkbox' ><label for='attrs-02554768-7d0b-4b59-8f1b-ab872012b619' title='Show/Hide attributes'><svg class='icon xr-icon-file-text2'><use xlink:href='#icon-file-text2'></use></svg></label><input id='data-9862ed7e-4745-49b0-90fd-8ed728127a29' class='xr-var-data-in' type='checkbox'><label for='data-9862ed7e-4745-49b0-90fd-8ed728127a29' title='Show/Hide data repr'><svg class='icon xr-icon-database'><use xlink:href='#icon-database'></use></svg></label><div class='xr-var-attrs'><dl class='xr-attrs'><dt><span>axis :</span></dt><dd>Y</dd><dt><span>long_name :</span></dt><dd>latitude</dd><dt><span>standard_name :</span></dt><dd>latitude</dd><dt><span>units :</span></dt><dd>degrees_north</dd></dl></div><div class='xr-var-data'><pre>array([0.000000e+000, 1.234791e-259, 0.000000e+000, ..., 5.045332e+223,\n",
       "       4.672603e+164, 7.530467e+252])</pre></div></li><li class='xr-var-item'><div class='xr-var-name'><span class='xr-has-index'>lon</span></div><div class='xr-var-dims'>(lon)</div><div class='xr-var-dtype'>float64</div><div class='xr-var-preview xr-preview'>0.0 6.013e-154 ... 5.351e-80</div><input id='attrs-72da59e4-e409-46b6-9b5a-9d530afc6ced' class='xr-var-attrs-in' type='checkbox' ><label for='attrs-72da59e4-e409-46b6-9b5a-9d530afc6ced' title='Show/Hide attributes'><svg class='icon xr-icon-file-text2'><use xlink:href='#icon-file-text2'></use></svg></label><input id='data-0f91b3b5-e4b4-42b5-95ed-a95d70a36625' class='xr-var-data-in' type='checkbox'><label for='data-0f91b3b5-e4b4-42b5-95ed-a95d70a36625' title='Show/Hide data repr'><svg class='icon xr-icon-database'><use xlink:href='#icon-database'></use></svg></label><div class='xr-var-attrs'><dl class='xr-attrs'><dt><span>axis :</span></dt><dd>X</dd><dt><span>long_name :</span></dt><dd>longitude</dd><dt><span>standard_name :</span></dt><dd>longitude</dd><dt><span>units :</span></dt><dd>degrees_east</dd></dl></div><div class='xr-var-data'><pre>array([0.000000e+000, 6.013470e-154, 0.000000e+000, ..., 3.635921e+228,\n",
       "       8.699862e+199, 5.351357e-080])</pre></div></li><li class='xr-var-item'><div class='xr-var-name'><span class='xr-has-index'>time</span></div><div class='xr-var-dims'>(time)</div><div class='xr-var-dtype'>datetime64[ns]</div><div class='xr-var-preview xr-preview'>1950-01-01T12:00:00 ... 1950-12-...</div><input id='attrs-3c1c7286-5407-4fc3-a1ff-861ecb0accc0' class='xr-var-attrs-in' type='checkbox' ><label for='attrs-3c1c7286-5407-4fc3-a1ff-861ecb0accc0' title='Show/Hide attributes'><svg class='icon xr-icon-file-text2'><use xlink:href='#icon-file-text2'></use></svg></label><input id='data-8a7b4cde-68d9-46bb-941b-ea14f28bf5a9' class='xr-var-data-in' type='checkbox'><label for='data-8a7b4cde-68d9-46bb-941b-ea14f28bf5a9' title='Show/Hide data repr'><svg class='icon xr-icon-database'><use xlink:href='#icon-database'></use></svg></label><div class='xr-var-attrs'><dl class='xr-attrs'><dt><span>axis :</span></dt><dd>T</dd><dt><span>long_name :</span></dt><dd>time</dd><dt><span>standard_name :</span></dt><dd>time</dd></dl></div><div class='xr-var-data'><pre>array([&#x27;1950-01-01T12:00:00.000000000&#x27;, &#x27;1950-01-02T12:00:00.000000000&#x27;,\n",
       "       &#x27;1950-01-03T12:00:00.000000000&#x27;, ..., &#x27;1950-12-29T12:00:00.000000000&#x27;,\n",
       "       &#x27;1950-12-30T12:00:00.000000000&#x27;, &#x27;1950-12-31T12:00:00.000000000&#x27;],\n",
       "      dtype=&#x27;datetime64[ns]&#x27;)</pre></div></li></ul></div></li><li class='xr-section-item'><input id='section-acca5f8c-f766-4478-a023-44da05f67a56' class='xr-section-summary-in' type='checkbox'  checked><label for='section-acca5f8c-f766-4478-a023-44da05f67a56' class='xr-section-summary' >Data variables: <span>(1)</span></label><div class='xr-section-inline-details'></div><div class='xr-section-details'><ul class='xr-var-list'><li class='xr-var-item'><div class='xr-var-name'><span>tasmax</span></div><div class='xr-var-dims'>(time, lat, lon)</div><div class='xr-var-dtype'>float32</div><div class='xr-var-preview xr-preview'>...</div><input id='attrs-e75ad520-142a-4d65-9898-cc85f645d74b' class='xr-var-attrs-in' type='checkbox' ><label for='attrs-e75ad520-142a-4d65-9898-cc85f645d74b' title='Show/Hide attributes'><svg class='icon xr-icon-file-text2'><use xlink:href='#icon-file-text2'></use></svg></label><input id='data-d94900b2-c0fc-4172-8882-e62da6c4e666' class='xr-var-data-in' type='checkbox'><label for='data-d94900b2-c0fc-4172-8882-e62da6c4e666' title='Show/Hide data repr'><svg class='icon xr-icon-database'><use xlink:href='#icon-database'></use></svg></label><div class='xr-var-attrs'><dl class='xr-attrs'><dt><span>cell_measures :</span></dt><dd>area: areacella</dd><dt><span>cell_methods :</span></dt><dd>area: mean time: maximum</dd><dt><span>comment :</span></dt><dd>maximum near-surface (usually, 2 meter) air temperature (add cell_method attribute &#x27;time: max&#x27;)</dd><dt><span>long_name :</span></dt><dd>Daily Maximum Near-Surface Air Temperature</dd><dt><span>standard_name :</span></dt><dd>air_temperature</dd><dt><span>units :</span></dt><dd>K</dd></dl></div><div class='xr-var-data'><pre>[315360000 values with dtype=float32]</pre></div></li></ul></div></li><li class='xr-section-item'><input id='section-f7830015-21d5-405b-b39e-65de1662bb9a' class='xr-section-summary-in' type='checkbox'  ><label for='section-f7830015-21d5-405b-b39e-65de1662bb9a' class='xr-section-summary' >Attributes: <span>(22)</span></label><div class='xr-section-inline-details'></div><div class='xr-section-details'><dl class='xr-attrs'><dt><span>Conventions :</span></dt><dd>CF-1.7</dd><dt><span>activity :</span></dt><dd>NEX-GDDP-CMIP6</dd><dt><span>cmip6_institution_id :</span></dt><dd>CSIRO-ARCCSS</dd><dt><span>cmip6_license :</span></dt><dd>CC-BY-SA 4.0</dd><dt><span>cmip6_source_id :</span></dt><dd>ACCESS-CM2</dd><dt><span>contact :</span></dt><dd>Dr. Rama Nemani: rama.nemani@nasa.gov, Dr. Bridget Thrasher: bridget@climateanalyticsgroup.org</dd><dt><span>creation_date :</span></dt><dd>2021-10-04T14:00:55.510838+00:00</dd><dt><span>disclaimer :</span></dt><dd>This data is considered provisional and subject to change. This data is provided as is without any warranty of any kind, either express or implied, arising by law or otherwise, including but not limited to warranties of completeness, non-infringement, accuracy, merchantability, or fitness for a particular purpose. The user assumes all risk associated with the use of, or inability to use, this data.</dd><dt><span>external_variables :</span></dt><dd>areacella</dd><dt><span>frequency :</span></dt><dd>day</dd><dt><span>history :</span></dt><dd>2021-10-04T14:00:55.510838+00:00: install global attributes</dd><dt><span>institution :</span></dt><dd>NASA Earth Exchange, NASA Ames Research Center, Moffett Field, CA 94035</dd><dt><span>product :</span></dt><dd>output</dd><dt><span>realm :</span></dt><dd>atmos</dd><dt><span>references :</span></dt><dd>BCSD method: Thrasher et al., 2012, Hydrol. Earth Syst. Sci.,16, 3309-3314. Ref period obs: latest version of the Princeton Global Meteorological Forcings (http://hydrology.princeton.edu/data.php), based on Sheffield et al., 2006, J. Climate, 19 (13), 3088-3111.</dd><dt><span>resolution_id :</span></dt><dd>0.25 degree</dd><dt><span>scenario :</span></dt><dd>historical</dd><dt><span>source :</span></dt><dd>BCSD</dd><dt><span>title :</span></dt><dd>ACCESS-CM2, r1i1p1f1, historical, global downscaled CMIP6 climate projection data</dd><dt><span>tracking_id :</span></dt><dd>f85d4c2e-48e4-484f-aad4-6a3f30a04326</dd><dt><span>variant_label :</span></dt><dd>r1i1p1f1</dd><dt><span>version :</span></dt><dd>1.0</dd></dl></div></li></ul></div></div>"
      ],
      "text/plain": [
       "<xarray.Dataset>\n",
       "Dimensions:  (lat: 600, lon: 1440, time: 365)\n",
       "Coordinates:\n",
       "  * lat      (lat) float64 0.0 1.235e-259 0.0 ... 4.673e+164 7.53e+252\n",
       "  * lon      (lon) float64 0.0 6.013e-154 0.0 ... 3.636e+228 8.7e+199 5.351e-80\n",
       "  * time     (time) datetime64[ns] 1950-01-01T12:00:00 ... 1950-12-31T12:00:00\n",
       "Data variables:\n",
       "    tasmax   (time, lat, lon) float32 ...\n",
       "Attributes: (12/22)\n",
       "    Conventions:           CF-1.7\n",
       "    activity:              NEX-GDDP-CMIP6\n",
       "    cmip6_institution_id:  CSIRO-ARCCSS\n",
       "    cmip6_license:         CC-BY-SA 4.0\n",
       "    cmip6_source_id:       ACCESS-CM2\n",
       "    contact:               Dr. Rama Nemani: rama.nemani@nasa.gov, Dr. Bridget...\n",
       "    ...                    ...\n",
       "    scenario:              historical\n",
       "    source:                BCSD\n",
       "    title:                 ACCESS-CM2, r1i1p1f1, historical, global downscale...\n",
       "    tracking_id:           f85d4c2e-48e4-484f-aad4-6a3f30a04326\n",
       "    variant_label:         r1i1p1f1\n",
       "    version:               1.0"
      ]
     },
     "execution_count": 10,
     "metadata": {},
     "output_type": "execute_result"
    }
   ],
   "source": [
    "ds_single = xr.open_dataset(single_map, engine=\"zarr\", backend_kwargs=dict(consolidated=False))\n",
    "ds_single"
   ]
  },
  {
   "cell_type": "markdown",
   "id": "51800cf2-8f7a-4a4f-bf3c-9a4177fea2b6",
   "metadata": {},
   "source": [
    "It worked! But we can do even better. What if you want to open multiple NetCDF files with `xarray`? Let's create kerchunk references for 3 files and then combine them."
   ]
  },
  {
   "cell_type": "code",
   "execution_count": 12,
   "id": "5a760a4f-845f-497e-bbb0-e042c21ff420",
   "metadata": {},
   "outputs": [
    {
     "data": {
      "text/plain": [
       "['nex-gddp-cmip6/NEX-GDDP-CMIP6/ACCESS-CM2/historical/r1i1p1f1/tasmax/tasmax_day_ACCESS-CM2_historical_r1i1p1f1_gn_1950.nc',\n",
       " 'nex-gddp-cmip6/NEX-GDDP-CMIP6/ACCESS-CM2/historical/r1i1p1f1/tasmax/tasmax_day_ACCESS-CM2_historical_r1i1p1f1_gn_1951.nc',\n",
       " 'nex-gddp-cmip6/NEX-GDDP-CMIP6/ACCESS-CM2/historical/r1i1p1f1/tasmax/tasmax_day_ACCESS-CM2_historical_r1i1p1f1_gn_1952.nc']"
      ]
     },
     "execution_count": 12,
     "metadata": {},
     "output_type": "execute_result"
    }
   ],
   "source": [
    "subset_files = file_paths[0:3]\n",
    "subset_files"
   ]
  },
  {
   "cell_type": "code",
   "execution_count": 13,
   "id": "c99e4c63-4637-4da5-8449-c3e69f8f4bad",
   "metadata": {},
   "outputs": [
    {
     "name": "stdout",
     "output_type": "stream",
     "text": [
      "Running kerchunk generation for nex-gddp-cmip6/NEX-GDDP-CMIP6/ACCESS-CM2/historical/r1i1p1f1/tasmax/tasmax_day_ACCESS-CM2_historical_r1i1p1f1_gn_1950.nc...\n",
      "Running kerchunk generation for nex-gddp-cmip6/NEX-GDDP-CMIP6/ACCESS-CM2/historical/r1i1p1f1/tasmax/tasmax_day_ACCESS-CM2_historical_r1i1p1f1_gn_1951.nc...\n",
      "Running kerchunk generation for nex-gddp-cmip6/NEX-GDDP-CMIP6/ACCESS-CM2/historical/r1i1p1f1/tasmax/tasmax_day_ACCESS-CM2_historical_r1i1p1f1_gn_1952.nc...\n"
     ]
    }
   ],
   "source": [
    "# Iterate through filelist to generate Kerchunked files. Good use for `dask.bag`, see: https://docs.dask.org/en/stable/bag.html.\n",
    "output_files = []\n",
    "for single_file in subset_files:\n",
    "    out_file = generate_json_reference(single_file, temp_dir)\n",
    "    output_files.append(out_file)"
   ]
  },
  {
   "cell_type": "code",
   "execution_count": 14,
   "id": "29a1be3a-46be-4323-9db6-d1ac813d8c64",
   "metadata": {},
   "outputs": [
    {
     "data": {
      "text/plain": [
       "['/var/folders/jh/_03qbqf130l8hjh8rpc6f4_c0000gn/T/tmp1076qeep/tasmax_day_ACCESS-CM2_historical_r1i1p1f1_gn_1950.json',\n",
       " '/var/folders/jh/_03qbqf130l8hjh8rpc6f4_c0000gn/T/tmp1076qeep/tasmax_day_ACCESS-CM2_historical_r1i1p1f1_gn_1951.json',\n",
       " '/var/folders/jh/_03qbqf130l8hjh8rpc6f4_c0000gn/T/tmp1076qeep/tasmax_day_ACCESS-CM2_historical_r1i1p1f1_gn_1952.json']"
      ]
     },
     "execution_count": 14,
     "metadata": {},
     "output_type": "execute_result"
    }
   ],
   "source": [
    "output_files"
   ]
  },
  {
   "cell_type": "code",
   "execution_count": 15,
   "id": "7eb9012f-d388-4122-abc7-0371d41fbd30",
   "metadata": {},
   "outputs": [
    {
     "ename": "NameError",
     "evalue": "name 'anon' is not defined",
     "output_type": "error",
     "traceback": [
      "\u001b[0;31m---------------------------------------------------------------------------\u001b[0m",
      "\u001b[0;31mNameError\u001b[0m                                 Traceback (most recent call last)",
      "\u001b[0;32m/var/folders/jh/_03qbqf130l8hjh8rpc6f4_c0000gn/T/ipykernel_8775/150139790.py\u001b[0m in \u001b[0;36m<cell line: 2>\u001b[0;34m()\u001b[0m\n\u001b[1;32m      3\u001b[0m     \u001b[0moutput_files\u001b[0m\u001b[0;34m,\u001b[0m\u001b[0;34m\u001b[0m\u001b[0;34m\u001b[0m\u001b[0m\n\u001b[1;32m      4\u001b[0m     \u001b[0mremote_protocol\u001b[0m\u001b[0;34m=\u001b[0m\u001b[0;34m's3'\u001b[0m\u001b[0;34m,\u001b[0m\u001b[0;34m\u001b[0m\u001b[0;34m\u001b[0m\u001b[0m\n\u001b[0;32m----> 5\u001b[0;31m     \u001b[0mremote_options\u001b[0m\u001b[0;34m=\u001b[0m\u001b[0;34m{\u001b[0m\u001b[0;34m'anon'\u001b[0m\u001b[0;34m:\u001b[0m \u001b[0manon\u001b[0m\u001b[0;34m}\u001b[0m\u001b[0;34m,\u001b[0m\u001b[0;34m\u001b[0m\u001b[0;34m\u001b[0m\u001b[0m\n\u001b[0m\u001b[1;32m      6\u001b[0m     \u001b[0mconcat_dims\u001b[0m\u001b[0;34m=\u001b[0m\u001b[0;34m[\u001b[0m\u001b[0;34m'time'\u001b[0m\u001b[0;34m]\u001b[0m\u001b[0;34m,\u001b[0m\u001b[0;34m\u001b[0m\u001b[0;34m\u001b[0m\u001b[0m\n\u001b[1;32m      7\u001b[0m     \u001b[0mcoo_map\u001b[0m\u001b[0;34m=\u001b[0m\u001b[0;34m{\u001b[0m\u001b[0;34m\"time\"\u001b[0m\u001b[0;34m:\u001b[0m \u001b[0;34m\"cf:time\"\u001b[0m\u001b[0;34m}\u001b[0m\u001b[0;34m,\u001b[0m\u001b[0;34m\u001b[0m\u001b[0;34m\u001b[0m\u001b[0m\n",
      "\u001b[0;31mNameError\u001b[0m: name 'anon' is not defined"
     ]
    }
   ],
   "source": [
    "# combine individual references into single consolidated reference\n",
    "mzz = MultiZarrToZarr(\n",
    "    output_files,\n",
    "    remote_protocol='s3',\n",
    "    remote_options={'anon': anon},\n",
    "    concat_dims=['time'],\n",
    "    coo_map={\"time\": \"cf:time\"},\n",
    "    inline_threshold=0\n",
    ")\n",
    "multi_kerchunk = mzz.translate()"
   ]
  },
  {
   "cell_type": "code",
   "execution_count": null,
   "id": "81d97020-7c85-4641-b8d7-e12b69afa7fc",
   "metadata": {},
   "outputs": [],
   "source": [
    "# Write kerchunk .json record\n",
    "output_fname = os.path.join(temp_dir, f\"combined_CMIP6_{temporal_resolution}_{model}_{variable}_kerchunk.json\")\n",
    "with open(f\"{output_fname}\", \"wb\") as f:\n",
    "    print(f\"Writing combined kerchunk reference file {output_fname}\")\n",
    "    f.write(ujson.dumps(multi_kerchunk).encode())"
   ]
  },
  {
   "cell_type": "code",
   "execution_count": null,
   "id": "7bd81f13-f083-45c8-899e-e5c468aa1967",
   "metadata": {},
   "outputs": [],
   "source": [
    "# open dataset as zarr object using fsspec reference file system and Xarray\n",
    "fs_multi = fsspec.filesystem(\n",
    "    \"reference\",\n",
    "    fo=multi_kerchunk,\n",
    "    remote_protocol=\"s3\"\n",
    ")\n",
    "multi_map = fs_multi.get_mapper(\"\")"
   ]
  },
  {
   "cell_type": "code",
   "execution_count": null,
   "id": "668615ee-54cf-42bd-8474-04b99a351182",
   "metadata": {},
   "outputs": [],
   "source": [
    "ds_multi = xr.open_dataset(multi_map, engine=\"zarr\", backend_kwargs=dict(consolidated=False))\n",
    "ds_multi"
   ]
  },
  {
   "cell_type": "markdown",
   "id": "d3eeefc1-b1bf-4a33-9f7d-45be0040d007",
   "metadata": {},
   "source": [
    "Cool! Now we have 1096 days (3 years) of data."
   ]
  },
  {
   "cell_type": "markdown",
   "id": "34ab6982-898a-427e-8a55-dd38cfb6f6c7",
   "metadata": {},
   "source": [
    "## How to read a Kerchunk Store\n",
    "\n",
    "We've already demonstrated how to open the datasets with `Xarray`:\n",
    "\n",
    "```python\n",
    "fs_multi = fsspec.filesystem(\n",
    "    \"reference\",\n",
    "    fo=multi_kerchunk,\n",
    "    remote_protocol=\"s3\"\n",
    ")\n",
    "```\n",
    "\n",
    "Let's take it line by line to understand what's happening.\n",
    "\n",
    "1. `fsspec.filesystem` is used to open the kerchunk reference. It is not necessary to have kerchunk installed to read data.\n",
    "2. The first argument to `fsspec.filesystem` is the protocol. In the case of a kerchunk reference the protocol is the string \"reference\".\n",
    "3. The `fo` argument is the set of reference files used to create a `ReferenceFileSystem` instance.\n",
    "4. The remote_protocol argument is he protocol of the filesystem on which the references will be evaluated(unless fs is provided). If not given, will be derived from the first URL that has a protocol in the templates or in the references.\n",
    "\n",
    "Notice how the `fs_multi` object we've created is a `fsspec.implementations.reference.ReferenceFileSystem`."
   ]
  },
  {
   "cell_type": "code",
   "execution_count": null,
   "id": "5de47a48-b7c2-47eb-9668-0eef61cbaa95",
   "metadata": {},
   "outputs": [],
   "source": [
    "type(fs_multi)"
   ]
  },
  {
   "cell_type": "markdown",
   "id": "959f0b94-b24a-49d9-81ed-a719c9be0d25",
   "metadata": {},
   "source": [
    "Read about all the options for a [`fsspec.ReferenceFileSystem` in the `fsspec` docs](https://filesystem-spec.readthedocs.io/en/latest/_modules/fsspec/implementations/reference.html)."
   ]
  },
  {
   "cell_type": "markdown",
   "id": "e8038e86-0c4c-444d-b251-15b7b0c61128",
   "metadata": {},
   "source": [
    "One other common situation is to load data over HTTP (as opposed to a local filesystem or via the S3 protocol). Here's an example from the kerchunk case studies that loads a reference file and data files over HTTP:"
   ]
  },
  {
   "cell_type": "code",
   "execution_count": null,
   "id": "37d8c57b-772f-4bd4-90ff-96ac011e9f16",
   "metadata": {},
   "outputs": [],
   "source": [
    "zarr_all_url='https://sentinel-1-global-coherence-earthbigdata.s3.us-west-2.amazonaws.com/data/wrappers/zarr-all.json'\n",
    "\n",
    "mapper = fsspec.get_mapper(\n",
    "    'reference://',\n",
    "    fo=zarr_all_url,\n",
    "    target_protocol='http',\n",
    "    remote_protocol=\"http\"\n",
    ")\n",
    "dataset = xr.open_dataset(\n",
    "    mapper, engine='zarr', backend_kwargs={'consolidated': False}\n",
    ")\n",
    "dataset"
   ]
  },
  {
   "cell_type": "markdown",
   "id": "52b2455a-1068-4a5d-9f51-955423944e4d",
   "metadata": {},
   "source": [
    "Because xarray uses fsspec to read data, you can also bypass creating a fsspec object explicitly. Here's an example using of opening a kerchunk reference generated with pangeo-forge for the NOAA 1/4° daily Optimum Interpolation Sea Surface Temperature (or daily OISST) Climate Data Record (CDR)."
   ]
  },
  {
   "cell_type": "code",
   "execution_count": null,
   "id": "b44865cd-01d2-49e5-bfce-ef0f41930aad",
   "metadata": {},
   "outputs": [],
   "source": [
    "import xarray as xr\n",
    "url = \"https://ncsa.osn.xsede.org/Pangeo/pangeo-forge/pangeo-forge/aws-noaa-oisst-feedstock/aws-noaa-oisst-avhrr-only.zarr/reference.json\"\n",
    "ds = xr.open_dataset(\n",
    "    \"reference://\",\n",
    "    engine='zarr',\n",
    "    backend_kwargs={\n",
    "        'consolidated': False,\n",
    "        'storage_options': {\n",
    "            'fo': url,\n",
    "            'remote_options': {'anon': True},\n",
    "            'remote_protocol': 's3'}},\n",
    "    chunks={})\n",
    "ds"
   ]
  },
  {
   "cell_type": "markdown",
   "id": "aa55f00f-bc88-4ad7-ace0-16c79a6bf564",
   "metadata": {},
   "source": [
    "## Other Examples of Existing Kerchunk Data"
   ]
  },
  {
   "cell_type": "markdown",
   "id": "79163240-ca7b-4471-9de8-c9e77512cb19",
   "metadata": {},
   "source": [
    "* [Case Studies on Kerchunk Docs page](https://fsspec.github.io/kerchunk/cases.html)"
   ]
  },
  {
   "cell_type": "markdown",
   "id": "48cefdbb-3bc8-4690-9ac5-23648e60862f",
   "metadata": {},
   "source": [
    "# Additional resources\n",
    "\n",
    "* [Fake it until you make it — Using Kerchunk to read NetCDF4 data on AWS S3 as Zarr for rapid data access by Lucas Sterzinger](https://medium.com/pangeo/fake-it-until-you-make-it-reading-goes-netcdf4-data-on-aws-s3-as-zarr-for-rapid-data-access-61e33f8fe685)"
   ]
  }
 ],
 "metadata": {
  "kernelspec": {
   "display_name": "Python 3 (ipykernel)",
   "language": "python",
   "name": "python3"
  },
  "language_info": {
   "codemirror_mode": {
    "name": "ipython",
    "version": 3
   },
   "file_extension": ".py",
   "mimetype": "text/x-python",
   "name": "python",
   "nbconvert_exporter": "python",
   "pygments_lexer": "ipython3",
   "version": "3.9.7"
  }
 },
 "nbformat": 4,
 "nbformat_minor": 5
}
