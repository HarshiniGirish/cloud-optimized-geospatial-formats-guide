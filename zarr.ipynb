{
 "cells": [
  {
   "cell_type": "markdown",
   "metadata": {},
   "source": [
    "# Zarr in Practice"
   ]
  },
  {
   "cell_type": "markdown",
   "metadata": {},
   "source": [
    "## Example of how to create a Zarr store"
   ]
  },
  {
   "cell_type": "code",
   "execution_count": 1,
   "metadata": {},
   "outputs": [
    {
     "data": {
      "text/plain": [
       "<zarr.core.Array (10,) int64>"
      ]
     },
     "execution_count": 1,
     "metadata": {},
     "output_type": "execute_result"
    }
   ],
   "source": [
    "import numpy as np\n",
    "import zarr\n",
    "\n",
    "# Here we create a simple \n",
    "zstore = zarr.array(np.arange(10))\n"
   ]
  },
  {
   "cell_type": "markdown",
   "metadata": {},
   "source": [
    "This is an in-memory Zarr store. To persist it to disk, we can use `.save`."
   ]
  },
  {
   "cell_type": "code",
   "execution_count": 6,
   "metadata": {},
   "outputs": [],
   "source": [
    "zarr.save(\"test.zarr\", zstore)"
   ]
  },
  {
   "cell_type": "markdown",
   "metadata": {},
   "source": [
    "We can open the metadata about this dataset, which gives us some interesting information. It's has a shape of 10 chunks of 10, so we know all the data was stored in 1 chunk, and was compressed with the `blosc` compressor."
   ]
  },
  {
   "cell_type": "code",
   "execution_count": 19,
   "metadata": {},
   "outputs": [
    {
     "name": "stdout",
     "output_type": "stream",
     "text": [
      "{\n",
      "    \"chunks\": [\n",
      "        10\n",
      "    ],\n",
      "    \"compressor\": {\n",
      "        \"blocksize\": 0,\n",
      "        \"clevel\": 5,\n",
      "        \"cname\": \"lz4\",\n",
      "        \"id\": \"blosc\",\n",
      "        \"shuffle\": 1\n",
      "    },\n",
      "    \"dtype\": \"<i8\",\n",
      "    \"fill_value\": 0,\n",
      "    \"filters\": null,\n",
      "    \"order\": \"C\",\n",
      "    \"shape\": [\n",
      "        10\n",
      "    ],\n",
      "    \"zarr_format\": 2\n",
      "}"
     ]
    }
   ],
   "source": [
    "!cat test.zarr/.zarray "
   ]
  },
  {
   "cell_type": "markdown",
   "metadata": {},
   "source": [
    "This was a pretty basic example. Let's explore the other things we might want to do when creating Zarr.\n",
    "\n",
    "## Changing the chunk size\n",
    "\n",
    "## Creating a group\n",
    "\n",
    "## Changing the compression\n",
    "\n",
    "## Consolidating metadata\n",
    "\n"
   ]
  },
  {
   "cell_type": "markdown",
   "metadata": {},
   "source": [
    "# Example of Cloud-Optimized Access for this Format"
   ]
  }
 ],
 "metadata": {
  "kernelspec": {
   "display_name": ".venv",
   "language": "python",
   "name": ".venv"
  },
  "language_info": {
   "codemirror_mode": {
    "name": "ipython",
    "version": 3
   },
   "file_extension": ".py",
   "mimetype": "text/x-python",
   "name": "python",
   "nbconvert_exporter": "python",
   "pygments_lexer": "ipython3",
   "version": "3.9.7"
  },
  "orig_nbformat": 4
 },
 "nbformat": 4,
 "nbformat_minor": 2
}
