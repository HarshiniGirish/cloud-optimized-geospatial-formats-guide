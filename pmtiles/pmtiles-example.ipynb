{
 "cells": [
  {
   "cell_type": "markdown",
   "metadata": {},
   "source": [
    "# PMTiles example\n",
    "\n",
    "This notebook will give an overview of how to create and visualize PMTiles archives."
   ]
  },
  {
   "cell_type": "markdown",
   "metadata": {},
   "source": [
    "## Creating PMTiles\n",
    "\n",
    "For this example, we'll use the same file as used in the FlatGeobuf and GeoParquet example notebooks: a 13MB file of US counties.\n",
    "\n",
    "We'll use Tippecanoe to convert this file into tiles. If you're on MacOS, Tippecanoe can be installed with\n",
    "\n",
    "```bash\n",
    "brew install tippecanoe\n",
    "```\n",
    "\n",
    "Otherwise, you can use Conda to install:\n",
    "\n",
    "```bash\n",
    "conda install -c conda-forge tippecanoe\n",
    "```"
   ]
  },
  {
   "cell_type": "markdown",
   "metadata": {},
   "source": [
    "First we'll download the file to our local directory:"
   ]
  },
  {
   "cell_type": "code",
   "execution_count": 1,
   "metadata": {},
   "outputs": [
    {
     "name": "stdout",
     "output_type": "stream",
     "text": [
      "--2023-08-23 15:54:58--  https://flatgeobuf.org/test/data/UScounties.fgb\n",
      "Resolving flatgeobuf.org (flatgeobuf.org)... 185.199.108.153\n",
      "Connecting to flatgeobuf.org (flatgeobuf.org)|185.199.108.153|:443... connected.\n",
      "HTTP request sent, awaiting response... 200 OK\n",
      "Length: 14100008 (13M) [application/octet-stream]\n",
      "Saving to: ‘UScounties.fgb’\n",
      "\n",
      "UScounties.fgb      100%[===================>]  13.45M  7.94MB/s    in 1.7s    \n",
      "\n",
      "2023-08-23 15:55:02 (7.94 MB/s) - ‘UScounties.fgb’ saved [14100008/14100008]\n",
      "\n"
     ]
    }
   ],
   "source": [
    "!wget https://flatgeobuf.org/test/data/UScounties.fgb"
   ]
  },
  {
   "cell_type": "markdown",
   "metadata": {},
   "source": [
    "Tippecanoe has many options to customize its behavior. Here we'll use the `-zg` flag to tell Tippecanoe to deduce appropriate minimum and maximum zoom levels for the dataset. The `-o counties.pmtiles` flag tells Tippecanoe to save the output with that name.\n",
    "\n",
    "Tippecanoe also works especially well with FlatGeobuf files. When a FlatGeobuf file is used as input, Tippecanoe will reuse the spatial index stored in the FlatGeobuf file instead of creating its own."
   ]
  },
  {
   "cell_type": "code",
   "execution_count": 3,
   "metadata": {},
   "outputs": [
    {
     "name": "stdout",
     "output_type": "stream",
     "text": [
      "For layer 0, using name \"UScountiesfgb\"\n",
      "detected indexed FlatGeobuf: assigning feature IDs by sequence\n",
      "3221 features, 5580299 bytes of geometry, 53296 bytes of string pool\n",
      "Choosing a maxzoom of -z1 for features typically 141427 feet (43107 meters) apart, and at least 33249 feet (10135 meters) apart\n",
      "Choosing a maxzoom of -z7 for resolution of about 3195 feet (973 meters) within features\n",
      "  99.9%  7/36/49  \n",
      "  100.0%  7/127/42  \r"
     ]
    }
   ],
   "source": [
    "!tippecanoe UScounties.fgb -o counties.pmtiles -zg"
   ]
  },
  {
   "cell_type": "markdown",
   "metadata": {},
   "source": [
    "Now we have a file named `counties.pmtiles` with our data:"
   ]
  },
  {
   "cell_type": "code",
   "execution_count": 5,
   "metadata": {},
   "outputs": [
    {
     "name": "stdout",
     "output_type": "stream",
     "text": [
      "-rw-r--r--@ 1 kyle  staff   2.8M Aug 23 16:02 counties.pmtiles\n"
     ]
    }
   ],
   "source": [
    "!ls -lh counties.pmtiles"
   ]
  },
  {
   "cell_type": "code",
   "execution_count": 6,
   "metadata": {},
   "outputs": [],
   "source": [
    "import pmtiles"
   ]
  },
  {
   "cell_type": "code",
   "execution_count": null,
   "metadata": {},
   "outputs": [],
   "source": []
  },
  {
   "cell_type": "code",
   "execution_count": null,
   "metadata": {},
   "outputs": [],
   "source": []
  }
 ],
 "metadata": {
  "kernelspec": {
   "display_name": "Python 3",
   "language": "python",
   "name": "python3"
  },
  "language_info": {
   "codemirror_mode": {
    "name": "ipython",
    "version": 3
   },
   "file_extension": ".py",
   "mimetype": "text/x-python",
   "name": "python",
   "nbconvert_exporter": "python",
   "pygments_lexer": "ipython3",
   "version": "3.11.4"
  },
  "orig_nbformat": 4
 },
 "nbformat": 4,
 "nbformat_minor": 2
}
